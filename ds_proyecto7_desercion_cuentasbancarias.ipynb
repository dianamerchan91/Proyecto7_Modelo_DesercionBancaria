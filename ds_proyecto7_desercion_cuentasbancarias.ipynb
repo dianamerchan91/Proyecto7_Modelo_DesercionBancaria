{
 "cells": [
  {
   "cell_type": "markdown",
   "metadata": {},
   "source": [
    "# Modelo de análisis predictivo para determinar clientes con tendencia a la deserción en Beta Bank"
   ]
  },
  {
   "cell_type": "markdown",
   "metadata": {
    "toc": true
   },
   "source": [
    "<h1>Tabla de Contenidos<span class=\"tocSkip\"></span></h1>\n",
    "<div class=\"toc\"><ul class=\"toc-item\"><li><span><a href=\"#Introducción\" data-toc-modified-id=\"Introducción-1\"><span class=\"toc-item-num\">1&nbsp;&nbsp;</span>Introducción</a></span><ul class=\"toc-item\"><li><span><a href=\"#Objetivos\" data-toc-modified-id=\"Objetivos-1.1\"><span class=\"toc-item-num\">1.1&nbsp;&nbsp;</span>Objetivos</a></span></li></ul></li><li><span><a href=\"#Inicialización\" data-toc-modified-id=\"Inicialización-2\"><span class=\"toc-item-num\">2&nbsp;&nbsp;</span>Inicialización</a></span><ul class=\"toc-item\"><li><span><a href=\"#Cargar-datos\" data-toc-modified-id=\"Cargar-datos-2.1\"><span class=\"toc-item-num\">2.1&nbsp;&nbsp;</span>Cargar datos</a></span></li><li><span><a href=\"#Explorar-datos-iniciales\" data-toc-modified-id=\"Explorar-datos-iniciales-2.2\"><span class=\"toc-item-num\">2.2&nbsp;&nbsp;</span>Explorar datos iniciales</a></span></li><li><span><a href=\"#Visualización-de-datos\" data-toc-modified-id=\"Visualización-de-datos-2.3\"><span class=\"toc-item-num\">2.3&nbsp;&nbsp;</span>Visualización de datos</a></span></li><li><span><a href=\"#Conclusiones\" data-toc-modified-id=\"Conclusiones-2.4\"><span class=\"toc-item-num\">2.4&nbsp;&nbsp;</span>Conclusiones</a></span></li></ul></li><li><span><a href=\"#Preprocesamiento-de-datos\" data-toc-modified-id=\"Preprocesamiento-de-datos-3\"><span class=\"toc-item-num\">3&nbsp;&nbsp;</span>Preprocesamiento de datos</a></span><ul class=\"toc-item\"><li><span><a href=\"#Corrección-nombre-de-las-columnas\" data-toc-modified-id=\"Corrección-nombre-de-las-columnas-3.1\"><span class=\"toc-item-num\">3.1&nbsp;&nbsp;</span>Corrección nombre de las columnas</a></span></li><li><span><a href=\"#Eliminación-de-columnas\" data-toc-modified-id=\"Eliminación-de-columnas-3.2\"><span class=\"toc-item-num\">3.2&nbsp;&nbsp;</span>Eliminación de columnas</a></span></li><li><span><a href=\"#Corrección-valores-ausentes-en-tenure\" data-toc-modified-id=\"Corrección-valores-ausentes-en-tenure-3.3\"><span class=\"toc-item-num\">3.3&nbsp;&nbsp;</span>Corrección valores ausentes en <code>tenure</code></a></span></li><li><span><a href=\"#Conclusiones\" data-toc-modified-id=\"Conclusiones-3.4\"><span class=\"toc-item-num\">3.4&nbsp;&nbsp;</span>Conclusiones</a></span></li></ul></li><li><span><a href=\"#Estandarización-y-segmentación-de-datos-fuente\" data-toc-modified-id=\"Estandarización-y-segmentación-de-datos-fuente-4\"><span class=\"toc-item-num\">4&nbsp;&nbsp;</span>Estandarización y segmentación de datos fuente</a></span><ul class=\"toc-item\"><li><span><a href=\"#Estandarización-de-características-numéricas\" data-toc-modified-id=\"Estandarización-de-características-numéricas-4.1\"><span class=\"toc-item-num\">4.1&nbsp;&nbsp;</span>Estandarización de características numéricas</a></span></li><li><span><a href=\"#Segmentación-de-datos\" data-toc-modified-id=\"Segmentación-de-datos-4.2\"><span class=\"toc-item-num\">4.2&nbsp;&nbsp;</span>Segmentación de datos</a></span></li></ul></li><li><span><a href=\"#Desequilibrio-de-clases\" data-toc-modified-id=\"Desequilibrio-de-clases-5\"><span class=\"toc-item-num\">5&nbsp;&nbsp;</span>Desequilibrio de clases</a></span></li><li><span><a href=\"#Modelos-sin-desequilibrio-de-clases\" data-toc-modified-id=\"Modelos-sin-desequilibrio-de-clases-6\"><span class=\"toc-item-num\">6&nbsp;&nbsp;</span>Modelos sin desequilibrio de clases</a></span><ul class=\"toc-item\"><li><span><a href=\"#Árbol-de-Decisión\" data-toc-modified-id=\"Árbol-de-Decisión-6.1\"><span class=\"toc-item-num\">6.1&nbsp;&nbsp;</span>Árbol de Decisión</a></span></li><li><span><a href=\"#Bosque-Aleatorio\" data-toc-modified-id=\"Bosque-Aleatorio-6.2\"><span class=\"toc-item-num\">6.2&nbsp;&nbsp;</span>Bosque Aleatorio</a></span></li><li><span><a href=\"#Regresión-Logística\" data-toc-modified-id=\"Regresión-Logística-6.3\"><span class=\"toc-item-num\">6.3&nbsp;&nbsp;</span>Regresión Logística</a></span></li><li><span><a href=\"#Conclusiones\" data-toc-modified-id=\"Conclusiones-6.4\"><span class=\"toc-item-num\">6.4&nbsp;&nbsp;</span>Conclusiones</a></span></li></ul></li><li><span><a href=\"#Modelos-con-desequilibrio-de-clases\" data-toc-modified-id=\"Modelos-con-desequilibrio-de-clases-7\"><span class=\"toc-item-num\">7&nbsp;&nbsp;</span>Modelos con desequilibrio de clases</a></span><ul class=\"toc-item\"><li><span><a href=\"#Sobremuestreo\" data-toc-modified-id=\"Sobremuestreo-7.1\"><span class=\"toc-item-num\">7.1&nbsp;&nbsp;</span>Sobremuestreo</a></span></li><li><span><a href=\"#Submuestreo\" data-toc-modified-id=\"Submuestreo-7.2\"><span class=\"toc-item-num\">7.2&nbsp;&nbsp;</span>Submuestreo</a></span></li><li><span><a href=\"#Ajuste-de-peso-de-clase\" data-toc-modified-id=\"Ajuste-de-peso-de-clase-7.3\"><span class=\"toc-item-num\">7.3&nbsp;&nbsp;</span>Ajuste de peso de clase</a></span></li><li><span><a href=\"#Conclusiones\" data-toc-modified-id=\"Conclusiones-7.4\"><span class=\"toc-item-num\">7.4&nbsp;&nbsp;</span>Conclusiones</a></span></li></ul></li><li><span><a href=\"#Prueba-Final:-Calidad-del-modelo\" data-toc-modified-id=\"Prueba-Final:-Calidad-del-modelo-8\"><span class=\"toc-item-num\">8&nbsp;&nbsp;</span>Prueba Final: Calidad del modelo</a></span></li><li><span><a href=\"#Prueba-de-Cordura\" data-toc-modified-id=\"Prueba-de-Cordura-9\"><span class=\"toc-item-num\">9&nbsp;&nbsp;</span>Prueba de Cordura</a></span></li><li><span><a href=\"#Conclusiones\" data-toc-modified-id=\"Conclusiones-10\"><span class=\"toc-item-num\">10&nbsp;&nbsp;</span>Conclusiones</a></span></li></ul></div>"
   ]
  },
  {
   "cell_type": "markdown",
   "metadata": {},
   "source": [
    "## Introducción\n",
    "\n",
    "En los últimos meses la entidad bancaria Beta Bank está reportando una pérdida sustancial de clientes, los cuales están abandonando sus cuentas bancarias paulatinamente. Estos clientes que dejan de utilizar los servicios de una empresa se conocen como desertores, y la cancelación de sus cuentas puede estar relacionada con un mal servicio por parte del banco u ofertas más asequibles por parte de competencia. Considerando esto, y que resulta más costoso atraer nuevos clientes que salvar a los clientes existentes, Beta Bank ha decidido buscar estrategias que garanticen la retención y la disminución de la deserción de clientes antiguos.\n",
    "\n",
    "Una de estas estrategias es la generación de modelos predictivos que permitan establecer aquellos desertores o clientes que están muy cerca de abandonar sus cuentas bancarias. Es así que Beta Bank, ha decidido generar un modelo de machine learning que a partir de datos sobre el comportamiento pasado de sus clientes y la terminación de contratos con el banco, buscará establecer qué clientes son más propensos a desvincularse de la empresa. En este proyecto se comparará diferentes modelos de machine learning y se escogerá aquel modelo que presente un valor F1 de al menos 0.59.\n",
    "\n",
    "### Objetivos\n",
    "\n",
    "1. Crear un modelo de machine learning que permita determinar aquellos clientes con una mayor tendencia a abandonar sus cuentas bancarias en Beta Bank. \n",
    "2. Examinar el equilibrio de clases y entrenar modelos que no consideren el desequilibrio de clases. \n",
    "3. Entrenar diferentes modelos de machine learning, escoger aquel modelo con el máximo valor F1 posible (al menos 0.59) y medir AUC-ROC en todos los modelos entrenados. \n"
   ]
  },
  {
   "cell_type": "markdown",
   "metadata": {},
   "source": [
    "## Inicialización\n",
    "\n",
    "Empezamos importando todas las librerías necesarias para desarrollar el mejor modelo de machine learning. En este caso, trabajaremos con la librería `Pandas`, `Numpy` y `Scikit-Learn`, las cuales permiten leer correctamente los archivos, trabajar con datos y generar diferentes tipos de modelos. "
   ]
  },
  {
   "cell_type": "code",
   "execution_count": 1,
   "metadata": {},
   "outputs": [],
   "source": [
    "import numpy as np\n",
    "import pandas as pd\n",
    "import matplotlib.pyplot as plt\n",
    "\n",
    "from sklearn.utils import shuffle\n",
    "from sklearn.tree import DecisionTreeClassifier\n",
    "from sklearn.ensemble import RandomForestClassifier\n",
    "from sklearn.linear_model import LogisticRegression, LinearRegression\n",
    "from sklearn.model_selection import train_test_split\n",
    "from sklearn.metrics import f1_score, roc_curve, roc_auc_score\n",
    "from sklearn.preprocessing import StandardScaler"
   ]
  },
  {
   "cell_type": "markdown",
   "metadata": {},
   "source": [
    "### Cargar datos\n",
    "\n",
    "A continuacion, vamos a importar el archivo con la información relacionada al comportamiento pasado de clientes de Beta Bank. Para esto, utilizaremos la función `pd.read_csv` de pandas y pasaremos como argumento la ubicación del archivo. Guardaremos nuestro dataset dentro de la variable `data`."
   ]
  },
  {
   "cell_type": "code",
   "execution_count": 2,
   "metadata": {},
   "outputs": [],
   "source": [
    "data = pd.read_csv('/datasets/Churn.csv')"
   ]
  },
  {
   "cell_type": "markdown",
   "metadata": {},
   "source": [
    "### Explorar datos iniciales\n",
    "\n",
    "Una vez importado nuestro dataset con la información de cada cliente de Beta Bank, procedemos a realizar una exploración de los datos. Iniciamos llamando a los métodos `head`, `tail`, `info` y al atributo `shape`."
   ]
  },
  {
   "cell_type": "code",
   "execution_count": 3,
   "metadata": {},
   "outputs": [
    {
     "data": {
      "text/plain": [
       "(10000, 14)"
      ]
     },
     "execution_count": 3,
     "metadata": {},
     "output_type": "execute_result"
    }
   ],
   "source": [
    "data.shape"
   ]
  },
  {
   "cell_type": "code",
   "execution_count": 4,
   "metadata": {},
   "outputs": [
    {
     "data": {
      "text/html": [
       "<div>\n",
       "<style scoped>\n",
       "    .dataframe tbody tr th:only-of-type {\n",
       "        vertical-align: middle;\n",
       "    }\n",
       "\n",
       "    .dataframe tbody tr th {\n",
       "        vertical-align: top;\n",
       "    }\n",
       "\n",
       "    .dataframe thead th {\n",
       "        text-align: right;\n",
       "    }\n",
       "</style>\n",
       "<table border=\"1\" class=\"dataframe\">\n",
       "  <thead>\n",
       "    <tr style=\"text-align: right;\">\n",
       "      <th></th>\n",
       "      <th>RowNumber</th>\n",
       "      <th>CustomerId</th>\n",
       "      <th>Surname</th>\n",
       "      <th>CreditScore</th>\n",
       "      <th>Geography</th>\n",
       "      <th>Gender</th>\n",
       "      <th>Age</th>\n",
       "      <th>Tenure</th>\n",
       "      <th>Balance</th>\n",
       "      <th>NumOfProducts</th>\n",
       "      <th>HasCrCard</th>\n",
       "      <th>IsActiveMember</th>\n",
       "      <th>EstimatedSalary</th>\n",
       "      <th>Exited</th>\n",
       "    </tr>\n",
       "  </thead>\n",
       "  <tbody>\n",
       "    <tr>\n",
       "      <th>0</th>\n",
       "      <td>1</td>\n",
       "      <td>15634602</td>\n",
       "      <td>Hargrave</td>\n",
       "      <td>619</td>\n",
       "      <td>France</td>\n",
       "      <td>Female</td>\n",
       "      <td>42</td>\n",
       "      <td>2.0</td>\n",
       "      <td>0.00</td>\n",
       "      <td>1</td>\n",
       "      <td>1</td>\n",
       "      <td>1</td>\n",
       "      <td>101348.88</td>\n",
       "      <td>1</td>\n",
       "    </tr>\n",
       "    <tr>\n",
       "      <th>1</th>\n",
       "      <td>2</td>\n",
       "      <td>15647311</td>\n",
       "      <td>Hill</td>\n",
       "      <td>608</td>\n",
       "      <td>Spain</td>\n",
       "      <td>Female</td>\n",
       "      <td>41</td>\n",
       "      <td>1.0</td>\n",
       "      <td>83807.86</td>\n",
       "      <td>1</td>\n",
       "      <td>0</td>\n",
       "      <td>1</td>\n",
       "      <td>112542.58</td>\n",
       "      <td>0</td>\n",
       "    </tr>\n",
       "    <tr>\n",
       "      <th>2</th>\n",
       "      <td>3</td>\n",
       "      <td>15619304</td>\n",
       "      <td>Onio</td>\n",
       "      <td>502</td>\n",
       "      <td>France</td>\n",
       "      <td>Female</td>\n",
       "      <td>42</td>\n",
       "      <td>8.0</td>\n",
       "      <td>159660.80</td>\n",
       "      <td>3</td>\n",
       "      <td>1</td>\n",
       "      <td>0</td>\n",
       "      <td>113931.57</td>\n",
       "      <td>1</td>\n",
       "    </tr>\n",
       "    <tr>\n",
       "      <th>3</th>\n",
       "      <td>4</td>\n",
       "      <td>15701354</td>\n",
       "      <td>Boni</td>\n",
       "      <td>699</td>\n",
       "      <td>France</td>\n",
       "      <td>Female</td>\n",
       "      <td>39</td>\n",
       "      <td>1.0</td>\n",
       "      <td>0.00</td>\n",
       "      <td>2</td>\n",
       "      <td>0</td>\n",
       "      <td>0</td>\n",
       "      <td>93826.63</td>\n",
       "      <td>0</td>\n",
       "    </tr>\n",
       "    <tr>\n",
       "      <th>4</th>\n",
       "      <td>5</td>\n",
       "      <td>15737888</td>\n",
       "      <td>Mitchell</td>\n",
       "      <td>850</td>\n",
       "      <td>Spain</td>\n",
       "      <td>Female</td>\n",
       "      <td>43</td>\n",
       "      <td>2.0</td>\n",
       "      <td>125510.82</td>\n",
       "      <td>1</td>\n",
       "      <td>1</td>\n",
       "      <td>1</td>\n",
       "      <td>79084.10</td>\n",
       "      <td>0</td>\n",
       "    </tr>\n",
       "  </tbody>\n",
       "</table>\n",
       "</div>"
      ],
      "text/plain": [
       "   RowNumber  CustomerId   Surname  CreditScore Geography  Gender  Age  \\\n",
       "0          1    15634602  Hargrave          619    France  Female   42   \n",
       "1          2    15647311      Hill          608     Spain  Female   41   \n",
       "2          3    15619304      Onio          502    France  Female   42   \n",
       "3          4    15701354      Boni          699    France  Female   39   \n",
       "4          5    15737888  Mitchell          850     Spain  Female   43   \n",
       "\n",
       "   Tenure    Balance  NumOfProducts  HasCrCard  IsActiveMember  \\\n",
       "0     2.0       0.00              1          1               1   \n",
       "1     1.0   83807.86              1          0               1   \n",
       "2     8.0  159660.80              3          1               0   \n",
       "3     1.0       0.00              2          0               0   \n",
       "4     2.0  125510.82              1          1               1   \n",
       "\n",
       "   EstimatedSalary  Exited  \n",
       "0        101348.88       1  \n",
       "1        112542.58       0  \n",
       "2        113931.57       1  \n",
       "3         93826.63       0  \n",
       "4         79084.10       0  "
      ]
     },
     "execution_count": 4,
     "metadata": {},
     "output_type": "execute_result"
    }
   ],
   "source": [
    "data.head()"
   ]
  },
  {
   "cell_type": "code",
   "execution_count": 5,
   "metadata": {},
   "outputs": [
    {
     "data": {
      "text/html": [
       "<div>\n",
       "<style scoped>\n",
       "    .dataframe tbody tr th:only-of-type {\n",
       "        vertical-align: middle;\n",
       "    }\n",
       "\n",
       "    .dataframe tbody tr th {\n",
       "        vertical-align: top;\n",
       "    }\n",
       "\n",
       "    .dataframe thead th {\n",
       "        text-align: right;\n",
       "    }\n",
       "</style>\n",
       "<table border=\"1\" class=\"dataframe\">\n",
       "  <thead>\n",
       "    <tr style=\"text-align: right;\">\n",
       "      <th></th>\n",
       "      <th>RowNumber</th>\n",
       "      <th>CustomerId</th>\n",
       "      <th>Surname</th>\n",
       "      <th>CreditScore</th>\n",
       "      <th>Geography</th>\n",
       "      <th>Gender</th>\n",
       "      <th>Age</th>\n",
       "      <th>Tenure</th>\n",
       "      <th>Balance</th>\n",
       "      <th>NumOfProducts</th>\n",
       "      <th>HasCrCard</th>\n",
       "      <th>IsActiveMember</th>\n",
       "      <th>EstimatedSalary</th>\n",
       "      <th>Exited</th>\n",
       "    </tr>\n",
       "  </thead>\n",
       "  <tbody>\n",
       "    <tr>\n",
       "      <th>9995</th>\n",
       "      <td>9996</td>\n",
       "      <td>15606229</td>\n",
       "      <td>Obijiaku</td>\n",
       "      <td>771</td>\n",
       "      <td>France</td>\n",
       "      <td>Male</td>\n",
       "      <td>39</td>\n",
       "      <td>5.0</td>\n",
       "      <td>0.00</td>\n",
       "      <td>2</td>\n",
       "      <td>1</td>\n",
       "      <td>0</td>\n",
       "      <td>96270.64</td>\n",
       "      <td>0</td>\n",
       "    </tr>\n",
       "    <tr>\n",
       "      <th>9996</th>\n",
       "      <td>9997</td>\n",
       "      <td>15569892</td>\n",
       "      <td>Johnstone</td>\n",
       "      <td>516</td>\n",
       "      <td>France</td>\n",
       "      <td>Male</td>\n",
       "      <td>35</td>\n",
       "      <td>10.0</td>\n",
       "      <td>57369.61</td>\n",
       "      <td>1</td>\n",
       "      <td>1</td>\n",
       "      <td>1</td>\n",
       "      <td>101699.77</td>\n",
       "      <td>0</td>\n",
       "    </tr>\n",
       "    <tr>\n",
       "      <th>9997</th>\n",
       "      <td>9998</td>\n",
       "      <td>15584532</td>\n",
       "      <td>Liu</td>\n",
       "      <td>709</td>\n",
       "      <td>France</td>\n",
       "      <td>Female</td>\n",
       "      <td>36</td>\n",
       "      <td>7.0</td>\n",
       "      <td>0.00</td>\n",
       "      <td>1</td>\n",
       "      <td>0</td>\n",
       "      <td>1</td>\n",
       "      <td>42085.58</td>\n",
       "      <td>1</td>\n",
       "    </tr>\n",
       "    <tr>\n",
       "      <th>9998</th>\n",
       "      <td>9999</td>\n",
       "      <td>15682355</td>\n",
       "      <td>Sabbatini</td>\n",
       "      <td>772</td>\n",
       "      <td>Germany</td>\n",
       "      <td>Male</td>\n",
       "      <td>42</td>\n",
       "      <td>3.0</td>\n",
       "      <td>75075.31</td>\n",
       "      <td>2</td>\n",
       "      <td>1</td>\n",
       "      <td>0</td>\n",
       "      <td>92888.52</td>\n",
       "      <td>1</td>\n",
       "    </tr>\n",
       "    <tr>\n",
       "      <th>9999</th>\n",
       "      <td>10000</td>\n",
       "      <td>15628319</td>\n",
       "      <td>Walker</td>\n",
       "      <td>792</td>\n",
       "      <td>France</td>\n",
       "      <td>Female</td>\n",
       "      <td>28</td>\n",
       "      <td>NaN</td>\n",
       "      <td>130142.79</td>\n",
       "      <td>1</td>\n",
       "      <td>1</td>\n",
       "      <td>0</td>\n",
       "      <td>38190.78</td>\n",
       "      <td>0</td>\n",
       "    </tr>\n",
       "  </tbody>\n",
       "</table>\n",
       "</div>"
      ],
      "text/plain": [
       "      RowNumber  CustomerId    Surname  CreditScore Geography  Gender  Age  \\\n",
       "9995       9996    15606229   Obijiaku          771    France    Male   39   \n",
       "9996       9997    15569892  Johnstone          516    France    Male   35   \n",
       "9997       9998    15584532        Liu          709    France  Female   36   \n",
       "9998       9999    15682355  Sabbatini          772   Germany    Male   42   \n",
       "9999      10000    15628319     Walker          792    France  Female   28   \n",
       "\n",
       "      Tenure    Balance  NumOfProducts  HasCrCard  IsActiveMember  \\\n",
       "9995     5.0       0.00              2          1               0   \n",
       "9996    10.0   57369.61              1          1               1   \n",
       "9997     7.0       0.00              1          0               1   \n",
       "9998     3.0   75075.31              2          1               0   \n",
       "9999     NaN  130142.79              1          1               0   \n",
       "\n",
       "      EstimatedSalary  Exited  \n",
       "9995         96270.64       0  \n",
       "9996        101699.77       0  \n",
       "9997         42085.58       1  \n",
       "9998         92888.52       1  \n",
       "9999         38190.78       0  "
      ]
     },
     "execution_count": 5,
     "metadata": {},
     "output_type": "execute_result"
    }
   ],
   "source": [
    "data.tail()"
   ]
  },
  {
   "cell_type": "code",
   "execution_count": 6,
   "metadata": {},
   "outputs": [
    {
     "name": "stdout",
     "output_type": "stream",
     "text": [
      "<class 'pandas.core.frame.DataFrame'>\n",
      "RangeIndex: 10000 entries, 0 to 9999\n",
      "Data columns (total 14 columns):\n",
      " #   Column           Non-Null Count  Dtype  \n",
      "---  ------           --------------  -----  \n",
      " 0   RowNumber        10000 non-null  int64  \n",
      " 1   CustomerId       10000 non-null  int64  \n",
      " 2   Surname          10000 non-null  object \n",
      " 3   CreditScore      10000 non-null  int64  \n",
      " 4   Geography        10000 non-null  object \n",
      " 5   Gender           10000 non-null  object \n",
      " 6   Age              10000 non-null  int64  \n",
      " 7   Tenure           9091 non-null   float64\n",
      " 8   Balance          10000 non-null  float64\n",
      " 9   NumOfProducts    10000 non-null  int64  \n",
      " 10  HasCrCard        10000 non-null  int64  \n",
      " 11  IsActiveMember   10000 non-null  int64  \n",
      " 12  EstimatedSalary  10000 non-null  float64\n",
      " 13  Exited           10000 non-null  int64  \n",
      "dtypes: float64(3), int64(8), object(3)\n",
      "memory usage: 1.1+ MB\n"
     ]
    }
   ],
   "source": [
    "data.info()"
   ]
  },
  {
   "cell_type": "markdown",
   "metadata": {},
   "source": [
    "Nuestro dataset `data` cuenta con 10000 filas y 14 columnas, las cuales presentan la siguiente información:\n",
    "\n",
    "- `RowNumber`: índice de cadena de datos\n",
    "- `CustomerId`: identificador de cliente único\n",
    "- `Surname`: apellido\n",
    "- `CreditScore`: valor de crédito\n",
    "- `Geography:` país de residencia\n",
    "- `Gender`: sexo\n",
    "- `Age`: edad\n",
    "- `Tenure`: período durante el cual ha madurado el depósito a plazo fijo de un cliente (años)\n",
    "- `Balance`: saldo de la cuenta\n",
    "- `NumOfProducts`: número de productos bancarios utilizados por el cliente\n",
    "- `HasCrCard`: el cliente tiene una tarjeta de crédito (1 - sí; 0 - no)\n",
    "- `IsActiveMember`: actividad del cliente (1 - sí; 0 - no)\n",
    "- `EstimatedSalary`: salario estimado\n",
    "- `Exited`: El cliente se ha ido (1 - sí; 0 - no)\n",
    "\n",
    "Cada fila corresponde a una observación en la construcción de nuestro modelo de machine learning, es decir se cuenta con el comportamiento de 10000 usuarios de Beta Bank. La columna `Exited` será el objetivo de nuestro modelo, ya que alberga la información sobre si el cliente ha abandonado o no la entidad bancaria, y las trece columnas restantes corresponderían a las características del modelo, a partir de las cuales se entrenará el modelo predictivo. \n",
    "\n",
    "Se puede observar algunos problemas dentro de nuestros datos que requieren una corrección. En primer lugar, el nombre de las columnas se encuentra en mayúsculas, por lo que será necesario tranformar todo a minúsculas para mantener las reglas del buen estilo en programación. En segundo lugar, podemos observar la presencia de valores ausentes en la columna `Tenure`, estos valores requieren ser rellenados. A su vez, los valores de años en `Tenure` se presentan como tipo float, cuando deberían presentarse como tipo entero. \n",
    "\n",
    "Las columnas `RowNumber`, `CustomerId` y `Surname` contienen información sobre la identificación y apellido de cada cliente, lo cual no va a ser útil para nuestro modelo predictivo, así que será necesario eliminar estas variables. \n",
    "\n",
    "Analicemos más de cerca los valores ausentes y duplicados de nuestro dataset, llamemos a los métodos `isna`, `duplicated` y `sum` en nuestro dataset.\n"
   ]
  },
  {
   "cell_type": "code",
   "execution_count": 7,
   "metadata": {},
   "outputs": [
    {
     "data": {
      "text/plain": [
       "RowNumber            0\n",
       "CustomerId           0\n",
       "Surname              0\n",
       "CreditScore          0\n",
       "Geography            0\n",
       "Gender               0\n",
       "Age                  0\n",
       "Tenure             909\n",
       "Balance              0\n",
       "NumOfProducts        0\n",
       "HasCrCard            0\n",
       "IsActiveMember       0\n",
       "EstimatedSalary      0\n",
       "Exited               0\n",
       "dtype: int64"
      ]
     },
     "execution_count": 7,
     "metadata": {},
     "output_type": "execute_result"
    }
   ],
   "source": [
    "data.isna().sum()"
   ]
  },
  {
   "cell_type": "code",
   "execution_count": 8,
   "metadata": {},
   "outputs": [
    {
     "name": "stdout",
     "output_type": "stream",
     "text": [
      "Porcentaje de valores ausentes: 9.09\n"
     ]
    }
   ],
   "source": [
    "print('Porcentaje de valores ausentes:', data['Tenure'].isna().sum()*100/len(data))"
   ]
  },
  {
   "cell_type": "code",
   "execution_count": 9,
   "metadata": {},
   "outputs": [
    {
     "data": {
      "text/plain": [
       "0"
      ]
     },
     "execution_count": 9,
     "metadata": {},
     "output_type": "execute_result"
    }
   ],
   "source": [
    "data.duplicated().sum()"
   ]
  },
  {
   "cell_type": "markdown",
   "metadata": {},
   "source": [
    "Como se mencionó anteriomente solo se registran valores ausentes en la columna `Tenure`, los cuales requieren ser rellenados ya que representan el 9.09% de nuestro dataset. No se registran valores duplicados en nuestro conjunto de datos, así que continuaremos con el análisis de las variables continuas y discretas. \n",
    "\n",
    "### Visualización de datos\n",
    "\n",
    "En nuestros datos se pueden observar nueve variables discretas y cinco variables continuas. A continuación vamos a generar gráficos que nos permitan visualizar la distribución de nuestros datos dentro de cada una de estas variables. No consideraremos las variables `RowNumber`, `CustomerId` y `Surname`, ya que solo albergan la identificación o apellido de cada usuario, y no sería pertinente trazar estos gráficos. \n",
    "\n",
    "Construimos dos bucles for que nos devuelven gráficos de barras para cada variable discreta, llamamos a value_counts para obtener el recuento de valores únicos de cada categoría y utilizamos el parámetro normalize=True para obtener una distribución relativa. "
   ]
  },
  {
   "cell_type": "code",
   "execution_count": 10,
   "metadata": {},
   "outputs": [
    {
     "data": {
      "image/png": "[encoded data removed]",
      "text/plain": [
       "<Figure size 1296x864 with 7 Axes>"
      ]
     },
     "metadata": {
      "needs_background": "light"
     },
     "output_type": "display_data"
    }
   ],
   "source": [
    "# Almacenamos a las variables discretas en la variable categorical_data\n",
    "categorical_data= ['Geography', 'Gender', 'NumOfProducts', 'HasCrCard', 'IsActiveMember', 'Exited', 'Tenure']\n",
    "\n",
    "# Establecemos el número de filas y columnas para nuestros subplots\n",
    "a = 3 # número de filas\n",
    "b = 3 # número de columnas\n",
    "c = 1 # inicialización del conteo de plots\n",
    "\n",
    "# Establecemos el tamaño de nuestra figura de subplots\n",
    "fig = plt.subplots(figsize=(18, 12)) \n",
    "\n",
    "# Construimos un bucle for que iterará por cada columna categórica y devolverá un gráfico de barras\n",
    "for i in categorical_data:\n",
    "    plt.subplot(a, b, c)\n",
    "    plt.title(i)\n",
    "    plt.ylabel('%')\n",
    "    data[i].value_counts(normalize=True).plot(kind='bar', title=i, rot=0)\n",
    "    c = c + 1\n",
    "\n",
    "plt.tight_layout()\n",
    "plt.show()"
   ]
  },
  {
   "cell_type": "markdown",
   "metadata": {},
   "source": [
    "Al analizar las variables discretas podemos observar un mayor porcentaje de usuarios de Francia, que representan cerca del 50% de clientes en Beta Bank, seguidos de Alemania y España. A su vez, Hay un mayor porcentaje de hombres que mujeres, representando más del 50% del total de usuarios. Por otro lado, La mayoría de usuarios utilizan entre 1 a 2 productos bancarios, mientras que aquellos clientes que usan de 3 a 4 productos son más bien escasos. \n",
    "\n",
    "Cerca del 70% de usuarios tienen acceso a una tarjeta de crédito y el 30% no registran una tarjeta. Existe una distribución más o menos similar en relación a la actividad del cliente, presentando un mayor porcentaje de clientes activos, aunque no se observan diferencias grandes entre ambas categorías. En cuanto a la variable `Exited` se observa una diferencia notable entre las dos categorías, con un 20% de usuarios desertores y más del 70% de usuarios que aún conservan sus cuentas bancarias. \n",
    "\n",
    "En el caso de `Tenure` decidimos trazar un gráfico de barras, ya que un histograma no nos ayudará a representar la distribución correcta de esta variable. Se puede observar una distribución similar, con más del 8% de clientes que mantienen depósitos a plazos fijos entre los uno a nueve años, y existen menos clientes con depósitos a plazos fijos de 0 y 10 años. \n",
    "\n",
    "Ahora procedemos a analizar las variables continuas, primero aplicaremos el método describe a las variables para observar la distribución de los datos y posteriormente trazaremos histogramas de frecuencia a través de un bucle for. "
   ]
  },
  {
   "cell_type": "code",
   "execution_count": 11,
   "metadata": {},
   "outputs": [
    {
     "data": {
      "text/html": [
       "<div>\n",
       "<style scoped>\n",
       "    .dataframe tbody tr th:only-of-type {\n",
       "        vertical-align: middle;\n",
       "    }\n",
       "\n",
       "    .dataframe tbody tr th {\n",
       "        vertical-align: top;\n",
       "    }\n",
       "\n",
       "    .dataframe thead th {\n",
       "        text-align: right;\n",
       "    }\n",
       "</style>\n",
       "<table border=\"1\" class=\"dataframe\">\n",
       "  <thead>\n",
       "    <tr style=\"text-align: right;\">\n",
       "      <th></th>\n",
       "      <th>CreditScore</th>\n",
       "      <th>Age</th>\n",
       "      <th>Tenure</th>\n",
       "      <th>Balance</th>\n",
       "      <th>NumOfProducts</th>\n",
       "      <th>EstimatedSalary</th>\n",
       "    </tr>\n",
       "  </thead>\n",
       "  <tbody>\n",
       "    <tr>\n",
       "      <th>count</th>\n",
       "      <td>10000.000000</td>\n",
       "      <td>10000.000000</td>\n",
       "      <td>9091.000000</td>\n",
       "      <td>10000.000000</td>\n",
       "      <td>10000.000000</td>\n",
       "      <td>10000.000000</td>\n",
       "    </tr>\n",
       "    <tr>\n",
       "      <th>mean</th>\n",
       "      <td>650.528800</td>\n",
       "      <td>38.921800</td>\n",
       "      <td>4.997690</td>\n",
       "      <td>76485.889288</td>\n",
       "      <td>1.530200</td>\n",
       "      <td>100090.239881</td>\n",
       "    </tr>\n",
       "    <tr>\n",
       "      <th>std</th>\n",
       "      <td>96.653299</td>\n",
       "      <td>10.487806</td>\n",
       "      <td>2.894723</td>\n",
       "      <td>62397.405202</td>\n",
       "      <td>0.581654</td>\n",
       "      <td>57510.492818</td>\n",
       "    </tr>\n",
       "    <tr>\n",
       "      <th>min</th>\n",
       "      <td>350.000000</td>\n",
       "      <td>18.000000</td>\n",
       "      <td>0.000000</td>\n",
       "      <td>0.000000</td>\n",
       "      <td>1.000000</td>\n",
       "      <td>11.580000</td>\n",
       "    </tr>\n",
       "    <tr>\n",
       "      <th>25%</th>\n",
       "      <td>584.000000</td>\n",
       "      <td>32.000000</td>\n",
       "      <td>2.000000</td>\n",
       "      <td>0.000000</td>\n",
       "      <td>1.000000</td>\n",
       "      <td>51002.110000</td>\n",
       "    </tr>\n",
       "    <tr>\n",
       "      <th>50%</th>\n",
       "      <td>652.000000</td>\n",
       "      <td>37.000000</td>\n",
       "      <td>5.000000</td>\n",
       "      <td>97198.540000</td>\n",
       "      <td>1.000000</td>\n",
       "      <td>100193.915000</td>\n",
       "    </tr>\n",
       "    <tr>\n",
       "      <th>75%</th>\n",
       "      <td>718.000000</td>\n",
       "      <td>44.000000</td>\n",
       "      <td>7.000000</td>\n",
       "      <td>127644.240000</td>\n",
       "      <td>2.000000</td>\n",
       "      <td>149388.247500</td>\n",
       "    </tr>\n",
       "    <tr>\n",
       "      <th>max</th>\n",
       "      <td>850.000000</td>\n",
       "      <td>92.000000</td>\n",
       "      <td>10.000000</td>\n",
       "      <td>250898.090000</td>\n",
       "      <td>4.000000</td>\n",
       "      <td>199992.480000</td>\n",
       "    </tr>\n",
       "  </tbody>\n",
       "</table>\n",
       "</div>"
      ],
      "text/plain": [
       "        CreditScore           Age       Tenure        Balance  NumOfProducts  \\\n",
       "count  10000.000000  10000.000000  9091.000000   10000.000000   10000.000000   \n",
       "mean     650.528800     38.921800     4.997690   76485.889288       1.530200   \n",
       "std       96.653299     10.487806     2.894723   62397.405202       0.581654   \n",
       "min      350.000000     18.000000     0.000000       0.000000       1.000000   \n",
       "25%      584.000000     32.000000     2.000000       0.000000       1.000000   \n",
       "50%      652.000000     37.000000     5.000000   97198.540000       1.000000   \n",
       "75%      718.000000     44.000000     7.000000  127644.240000       2.000000   \n",
       "max      850.000000     92.000000    10.000000  250898.090000       4.000000   \n",
       "\n",
       "       EstimatedSalary  \n",
       "count     10000.000000  \n",
       "mean     100090.239881  \n",
       "std       57510.492818  \n",
       "min          11.580000  \n",
       "25%       51002.110000  \n",
       "50%      100193.915000  \n",
       "75%      149388.247500  \n",
       "max      199992.480000  "
      ]
     },
     "execution_count": 11,
     "metadata": {},
     "output_type": "execute_result"
    }
   ],
   "source": [
    "numerical_data = data[['CreditScore', 'Age', 'Tenure', 'Balance', 'NumOfProducts', 'EstimatedSalary']]\n",
    "numerical_data.describe()"
   ]
  },
  {
   "cell_type": "code",
   "execution_count": 12,
   "metadata": {},
   "outputs": [
    {
     "data": {
      "image/png": "[encoded data removed]",
      "text/plain": [
       "<Figure size 1152x576 with 4 Axes>"
      ]
     },
     "metadata": {
      "needs_background": "light"
     },
     "output_type": "display_data"
    }
   ],
   "source": [
    "# Almacenamos a las variables discretas en la variable numerical_data_1\n",
    "numerical_data_1= ['CreditScore', 'Age', 'Balance', 'EstimatedSalary']\n",
    "\n",
    "# Establecemos el número de filas y columnas para nuestros subplots\n",
    "a = 2 # número de filas\n",
    "b = 2 # número de columnas\n",
    "c = 1 # inicialización del conteo de plots\n",
    "\n",
    "# Establecemos el tamaño de nuestra figura de subplots\n",
    "fig = plt.subplots(figsize=(16, 8)) \n",
    "\n",
    "# Construimos un bucle for que iterará por cada columna numérica y devolverá un histograma\n",
    "for i in numerical_data_1:\n",
    "    plt.subplot(a, b, c)\n",
    "    plt.title(i)\n",
    "    data[i].plot(kind='hist', title=i, bins=15)\n",
    "    c = c + 1\n",
    "\n",
    "plt.tight_layout()\n",
    "plt.show()"
   ]
  },
  {
   "cell_type": "markdown",
   "metadata": {},
   "source": [
    "Para variable `CreditScore` podemos observar una mediana mayor a la media, lo que indica una asimetría negativa con una mayor cantidad de valores a la izquierda del pico más alto, esto se hace evidente al trazar el histograma de frecuencias, en el cual observamos un mayor número de clientes presentan entre 600 a 700 como valor de crédito, y hacia la izquierda del pico observamos menos clientes con créditos inferiores a 500.\n",
    "\n",
    "En el caso de la variable `Age` podemos observar una media mayor a la mediana, lo que indica una asimetría positiva o un sesgo hacia la derecha de los datos. Esto se puede evidenciar en nuestro histograma de frecuencia con el pico más alto alrededor de los 35 años, y luego a la derecha del pico se observa un cola larga que confirma el sesgo detectado anteriormente. \n",
    "\n",
    "Al analizar la variable `Balance` nos encontramos con un comportamiento extraño en nuestros datos, con el pico más alto del histograma cerca de cero, posteriormente se vuelve a observar un nuevo pico alrededor de 100000. A su vez, se puede observar una media menor a la mediana, lo que nos permite establecer una asimetría negativa con un mayor número de datos a la izquierda del pico más alto. También podemos observar una alta desviación estándar, que confirma la presencia de valores atípicos, esto también se hace evidente en la diferencia entre la media y la mediana, haciendo que la media sea más susceptible a los cambios producidos por estos valores. Vamos a mantener estos valores atípicos ya que podrían estar relacionados con aquellos clientes que han abandonado el banco y nos servirá para construir nuestro modelo. \n",
    "\n",
    "Para la variable `EstimatedSalary` encontramos una distribución similar de clientes entre los diferentes salarios, con una mediana ligeramente superior a la media, lo que indicaría un sesgo a la izquierda en nuestros datos. \n",
    "\n",
    "Finalmente, vamos a analizar la correlación entre las diferentes variables de este proyecto, poniendo énfasis en la correlación entre las características y objetivo para la posterior construcción de nuestro modelo. Llamamos entonces a la función corr()."
   ]
  },
  {
   "cell_type": "code",
   "execution_count": 13,
   "metadata": {},
   "outputs": [
    {
     "data": {
      "text/html": [
       "<div>\n",
       "<style scoped>\n",
       "    .dataframe tbody tr th:only-of-type {\n",
       "        vertical-align: middle;\n",
       "    }\n",
       "\n",
       "    .dataframe tbody tr th {\n",
       "        vertical-align: top;\n",
       "    }\n",
       "\n",
       "    .dataframe thead th {\n",
       "        text-align: right;\n",
       "    }\n",
       "</style>\n",
       "<table border=\"1\" class=\"dataframe\">\n",
       "  <thead>\n",
       "    <tr style=\"text-align: right;\">\n",
       "      <th></th>\n",
       "      <th>RowNumber</th>\n",
       "      <th>CustomerId</th>\n",
       "      <th>CreditScore</th>\n",
       "      <th>Age</th>\n",
       "      <th>Tenure</th>\n",
       "      <th>Balance</th>\n",
       "      <th>NumOfProducts</th>\n",
       "      <th>HasCrCard</th>\n",
       "      <th>IsActiveMember</th>\n",
       "      <th>EstimatedSalary</th>\n",
       "      <th>Exited</th>\n",
       "    </tr>\n",
       "  </thead>\n",
       "  <tbody>\n",
       "    <tr>\n",
       "      <th>RowNumber</th>\n",
       "      <td>1.000000</td>\n",
       "      <td>0.004202</td>\n",
       "      <td>0.005840</td>\n",
       "      <td>0.000783</td>\n",
       "      <td>-0.007322</td>\n",
       "      <td>-0.009067</td>\n",
       "      <td>0.007246</td>\n",
       "      <td>0.000599</td>\n",
       "      <td>0.012044</td>\n",
       "      <td>-0.005988</td>\n",
       "      <td>-0.016571</td>\n",
       "    </tr>\n",
       "    <tr>\n",
       "      <th>CustomerId</th>\n",
       "      <td>0.004202</td>\n",
       "      <td>1.000000</td>\n",
       "      <td>0.005308</td>\n",
       "      <td>0.009497</td>\n",
       "      <td>-0.021418</td>\n",
       "      <td>-0.012419</td>\n",
       "      <td>0.016972</td>\n",
       "      <td>-0.014025</td>\n",
       "      <td>0.001665</td>\n",
       "      <td>0.015271</td>\n",
       "      <td>-0.006248</td>\n",
       "    </tr>\n",
       "    <tr>\n",
       "      <th>CreditScore</th>\n",
       "      <td>0.005840</td>\n",
       "      <td>0.005308</td>\n",
       "      <td>1.000000</td>\n",
       "      <td>-0.003965</td>\n",
       "      <td>-0.000062</td>\n",
       "      <td>0.006268</td>\n",
       "      <td>0.012238</td>\n",
       "      <td>-0.005458</td>\n",
       "      <td>0.025651</td>\n",
       "      <td>-0.001384</td>\n",
       "      <td>-0.027094</td>\n",
       "    </tr>\n",
       "    <tr>\n",
       "      <th>Age</th>\n",
       "      <td>0.000783</td>\n",
       "      <td>0.009497</td>\n",
       "      <td>-0.003965</td>\n",
       "      <td>1.000000</td>\n",
       "      <td>-0.013134</td>\n",
       "      <td>0.028308</td>\n",
       "      <td>-0.030680</td>\n",
       "      <td>-0.011721</td>\n",
       "      <td>0.085472</td>\n",
       "      <td>-0.007201</td>\n",
       "      <td>0.285323</td>\n",
       "    </tr>\n",
       "    <tr>\n",
       "      <th>Tenure</th>\n",
       "      <td>-0.007322</td>\n",
       "      <td>-0.021418</td>\n",
       "      <td>-0.000062</td>\n",
       "      <td>-0.013134</td>\n",
       "      <td>1.000000</td>\n",
       "      <td>-0.007911</td>\n",
       "      <td>0.011979</td>\n",
       "      <td>0.027232</td>\n",
       "      <td>-0.032178</td>\n",
       "      <td>0.010520</td>\n",
       "      <td>-0.016761</td>\n",
       "    </tr>\n",
       "    <tr>\n",
       "      <th>Balance</th>\n",
       "      <td>-0.009067</td>\n",
       "      <td>-0.012419</td>\n",
       "      <td>0.006268</td>\n",
       "      <td>0.028308</td>\n",
       "      <td>-0.007911</td>\n",
       "      <td>1.000000</td>\n",
       "      <td>-0.304180</td>\n",
       "      <td>-0.014858</td>\n",
       "      <td>-0.010084</td>\n",
       "      <td>0.012797</td>\n",
       "      <td>0.118533</td>\n",
       "    </tr>\n",
       "    <tr>\n",
       "      <th>NumOfProducts</th>\n",
       "      <td>0.007246</td>\n",
       "      <td>0.016972</td>\n",
       "      <td>0.012238</td>\n",
       "      <td>-0.030680</td>\n",
       "      <td>0.011979</td>\n",
       "      <td>-0.304180</td>\n",
       "      <td>1.000000</td>\n",
       "      <td>0.003183</td>\n",
       "      <td>0.009612</td>\n",
       "      <td>0.014204</td>\n",
       "      <td>-0.047820</td>\n",
       "    </tr>\n",
       "    <tr>\n",
       "      <th>HasCrCard</th>\n",
       "      <td>0.000599</td>\n",
       "      <td>-0.014025</td>\n",
       "      <td>-0.005458</td>\n",
       "      <td>-0.011721</td>\n",
       "      <td>0.027232</td>\n",
       "      <td>-0.014858</td>\n",
       "      <td>0.003183</td>\n",
       "      <td>1.000000</td>\n",
       "      <td>-0.011866</td>\n",
       "      <td>-0.009933</td>\n",
       "      <td>-0.007138</td>\n",
       "    </tr>\n",
       "    <tr>\n",
       "      <th>IsActiveMember</th>\n",
       "      <td>0.012044</td>\n",
       "      <td>0.001665</td>\n",
       "      <td>0.025651</td>\n",
       "      <td>0.085472</td>\n",
       "      <td>-0.032178</td>\n",
       "      <td>-0.010084</td>\n",
       "      <td>0.009612</td>\n",
       "      <td>-0.011866</td>\n",
       "      <td>1.000000</td>\n",
       "      <td>-0.011421</td>\n",
       "      <td>-0.156128</td>\n",
       "    </tr>\n",
       "    <tr>\n",
       "      <th>EstimatedSalary</th>\n",
       "      <td>-0.005988</td>\n",
       "      <td>0.015271</td>\n",
       "      <td>-0.001384</td>\n",
       "      <td>-0.007201</td>\n",
       "      <td>0.010520</td>\n",
       "      <td>0.012797</td>\n",
       "      <td>0.014204</td>\n",
       "      <td>-0.009933</td>\n",
       "      <td>-0.011421</td>\n",
       "      <td>1.000000</td>\n",
       "      <td>0.012097</td>\n",
       "    </tr>\n",
       "    <tr>\n",
       "      <th>Exited</th>\n",
       "      <td>-0.016571</td>\n",
       "      <td>-0.006248</td>\n",
       "      <td>-0.027094</td>\n",
       "      <td>0.285323</td>\n",
       "      <td>-0.016761</td>\n",
       "      <td>0.118533</td>\n",
       "      <td>-0.047820</td>\n",
       "      <td>-0.007138</td>\n",
       "      <td>-0.156128</td>\n",
       "      <td>0.012097</td>\n",
       "      <td>1.000000</td>\n",
       "    </tr>\n",
       "  </tbody>\n",
       "</table>\n",
       "</div>"
      ],
      "text/plain": [
       "                 RowNumber  CustomerId  CreditScore       Age    Tenure  \\\n",
       "RowNumber         1.000000    0.004202     0.005840  0.000783 -0.007322   \n",
       "CustomerId        0.004202    1.000000     0.005308  0.009497 -0.021418   \n",
       "CreditScore       0.005840    0.005308     1.000000 -0.003965 -0.000062   \n",
       "Age               0.000783    0.009497    -0.003965  1.000000 -0.013134   \n",
       "Tenure           -0.007322   -0.021418    -0.000062 -0.013134  1.000000   \n",
       "Balance          -0.009067   -0.012419     0.006268  0.028308 -0.007911   \n",
       "NumOfProducts     0.007246    0.016972     0.012238 -0.030680  0.011979   \n",
       "HasCrCard         0.000599   -0.014025    -0.005458 -0.011721  0.027232   \n",
       "IsActiveMember    0.012044    0.001665     0.025651  0.085472 -0.032178   \n",
       "EstimatedSalary  -0.005988    0.015271    -0.001384 -0.007201  0.010520   \n",
       "Exited           -0.016571   -0.006248    -0.027094  0.285323 -0.016761   \n",
       "\n",
       "                  Balance  NumOfProducts  HasCrCard  IsActiveMember  \\\n",
       "RowNumber       -0.009067       0.007246   0.000599        0.012044   \n",
       "CustomerId      -0.012419       0.016972  -0.014025        0.001665   \n",
       "CreditScore      0.006268       0.012238  -0.005458        0.025651   \n",
       "Age              0.028308      -0.030680  -0.011721        0.085472   \n",
       "Tenure          -0.007911       0.011979   0.027232       -0.032178   \n",
       "Balance          1.000000      -0.304180  -0.014858       -0.010084   \n",
       "NumOfProducts   -0.304180       1.000000   0.003183        0.009612   \n",
       "HasCrCard       -0.014858       0.003183   1.000000       -0.011866   \n",
       "IsActiveMember  -0.010084       0.009612  -0.011866        1.000000   \n",
       "EstimatedSalary  0.012797       0.014204  -0.009933       -0.011421   \n",
       "Exited           0.118533      -0.047820  -0.007138       -0.156128   \n",
       "\n",
       "                 EstimatedSalary    Exited  \n",
       "RowNumber              -0.005988 -0.016571  \n",
       "CustomerId              0.015271 -0.006248  \n",
       "CreditScore            -0.001384 -0.027094  \n",
       "Age                    -0.007201  0.285323  \n",
       "Tenure                  0.010520 -0.016761  \n",
       "Balance                 0.012797  0.118533  \n",
       "NumOfProducts           0.014204 -0.047820  \n",
       "HasCrCard              -0.009933 -0.007138  \n",
       "IsActiveMember         -0.011421 -0.156128  \n",
       "EstimatedSalary         1.000000  0.012097  \n",
       "Exited                  0.012097  1.000000  "
      ]
     },
     "execution_count": 13,
     "metadata": {},
     "output_type": "execute_result"
    }
   ],
   "source": [
    "data.corr()"
   ]
  },
  {
   "cell_type": "markdown",
   "metadata": {},
   "source": [
    "Podemos observar correlaciones cercanas a cero para la mayoría de variables, lo cual indica que las variables están correlacionadas pero no a través de una correlación lineal. Hay que destacar la correlación entre nuestro objetivo `Exited` y la característica `Age`, con una correlación positiva de 0.28, que indica que la edad puede ser un factor que influye en cierta medida la deserción de los clientes. También encontramos una correlación positiva de 0.11 entre `Exited` y `Balance`, mientras que se puede evidenciar una correlación negativa entre `Exited` y la actividad de un cliente `IsActiveMember`.\n",
    "\n",
    "### Conclusiones\n",
    "\n",
    "1. Se registraron valores ausentes en la columna `Tenure` los cuales requieren ser correctamente rellenados para la posterior construcción de nuestro modelo. A su vez, los valores de esta variable se encuentra como tipo float, siendo más conveniente registrarlos como tipo entero. \n",
    "2. No se registraron valores duplicados dentro de nuestro dataset. \n",
    "3. Existen tres variables `RowNumber`, `CustomerId` y `Surname` que albergan información relacionada con la ID del usuario o su apellido, considerando que esta información no influirá en si un cliente abandona el banco, lo más conveniente será eliminarlas. \n",
    "4. Los nombres de la columnas se encuentran en mayúsculas, será conveniente transformarlas a minúsculas para cumplir con las reglas del buen estilo de programación. \n",
    "5. Al analizar nuetras variables discretas nos encontramos que la mayoría de clientes de Beta Bank pertenecen a Francia, existe una proporción mayo de hombre que mujeres, y un mayor porcentaje utiliza entre 1 a 2 productos bancarios. A su vez, hay un mayor porcentaje de clientes con tarjetas de crédito y más del 70% de clientes no han abandonado sus cuentas bancarias. Sin embargo, existe una proporción similar entre clientes activos y no. \n",
    "6. En cuanto a las variables continuas, encontramos una mayor proporción de clientes con 600 a 700 créditos, que se encuentran entre los 30 a 40 años. Existe un alto número de clientes con un balance de cero en sus cuentas bancarias, estos valores atípicos decididimos mantenerlos ya que podrían estar relacionados con la deserción de clientes. Para el salario estimado y el período de duración de un depósito se observó una distribución similar. \n"
   ]
  },
  {
   "cell_type": "markdown",
   "metadata": {},
   "source": [
    "## Preprocesamiento de datos\n",
    "\n",
    "### Corrección nombre de las columnas \n",
    "\n",
    "Como se mencionó anteriormente será necesario corregir el nombre de las columnas y transfomar todo en minúsculas. Primero llamaremos a columns en nuestro dataset `data` para observar el nombre de las columnas "
   ]
  },
  {
   "cell_type": "code",
   "execution_count": 14,
   "metadata": {},
   "outputs": [
    {
     "data": {
      "text/plain": [
       "Index(['RowNumber', 'CustomerId', 'Surname', 'CreditScore', 'Geography',\n",
       "       'Gender', 'Age', 'Tenure', 'Balance', 'NumOfProducts', 'HasCrCard',\n",
       "       'IsActiveMember', 'EstimatedSalary', 'Exited'],\n",
       "      dtype='object')"
      ]
     },
     "execution_count": 14,
     "metadata": {},
     "output_type": "execute_result"
    }
   ],
   "source": [
    "data.columns"
   ]
  },
  {
   "cell_type": "markdown",
   "metadata": {},
   "source": [
    "Se pueden observar nombres de columnas con mayúsculas, vamos a transformar los nombres en minúsculas con la función str.lower(), y previamente vamos a añadir guiones bajos para separar aquellos nombres que presentan varias palabras, así se facilitará su lectura. "
   ]
  },
  {
   "cell_type": "code",
   "execution_count": 15,
   "metadata": {},
   "outputs": [
    {
     "data": {
      "text/plain": [
       "Index(['row_number', 'customer_id', 'surname', 'credit_score', 'geography',\n",
       "       'gender', 'age', 'tenure', 'balance', 'num_of_products', 'has_cr_card',\n",
       "       'is_active_member', 'estimated_salary', 'exited'],\n",
       "      dtype='object')"
      ]
     },
     "execution_count": 15,
     "metadata": {},
     "output_type": "execute_result"
    }
   ],
   "source": [
    "# Cambiamos el nombre de las columnas llamando a la función rename\n",
    "data = data.rename(\n",
    "    columns = {'RowNumber' : 'row_number', \n",
    "              'CustomerId' : 'customer_id',\n",
    "              'CreditScore' : 'credit_score',\n",
    "              'NumOfProducts' : 'num_of_products',\n",
    "              'HasCrCard' : 'has_cr_card',\n",
    "              'IsActiveMember' : 'is_active_member',\n",
    "              'EstimatedSalary': 'estimated_salary'\n",
    "               }\n",
    ")\n",
    "\n",
    "# Transformamos todos los nombres a minúsculas\n",
    "data.columns = data.columns.str.lower()\n",
    "\n",
    "# Comprobamos los nuevos nombres de columnas \n",
    "data.columns"
   ]
  },
  {
   "cell_type": "markdown",
   "metadata": {},
   "source": [
    "### Eliminación de columnas \n",
    "\n",
    "Al realizar un análisis exploratorio de los datos nos encontramos con tres columnas que no serán importantes para construir nuestro modelo predictivo. `row_number` solo alberga el índice de cadena de datos, `customer_id` guarda el id de cada usuario del banco y `surname` el apellido, información que no será necesaria, así que vamos a continuar con nuestros análisis sin considerar estas columnas. Aplicamos la función drop a nuestro dataset y pasamos como argumentos los nombres de estas tres variables. "
   ]
  },
  {
   "cell_type": "code",
   "execution_count": 16,
   "metadata": {},
   "outputs": [
    {
     "name": "stdout",
     "output_type": "stream",
     "text": [
      "<class 'pandas.core.frame.DataFrame'>\n",
      "RangeIndex: 10000 entries, 0 to 9999\n",
      "Data columns (total 11 columns):\n",
      " #   Column            Non-Null Count  Dtype  \n",
      "---  ------            --------------  -----  \n",
      " 0   credit_score      10000 non-null  int64  \n",
      " 1   geography         10000 non-null  object \n",
      " 2   gender            10000 non-null  object \n",
      " 3   age               10000 non-null  int64  \n",
      " 4   tenure            9091 non-null   float64\n",
      " 5   balance           10000 non-null  float64\n",
      " 6   num_of_products   10000 non-null  int64  \n",
      " 7   has_cr_card       10000 non-null  int64  \n",
      " 8   is_active_member  10000 non-null  int64  \n",
      " 9   estimated_salary  10000 non-null  float64\n",
      " 10  exited            10000 non-null  int64  \n",
      "dtypes: float64(3), int64(6), object(2)\n",
      "memory usage: 859.5+ KB\n"
     ]
    }
   ],
   "source": [
    "data = data.drop(columns=['row_number', 'customer_id', 'surname'])\n",
    "\n",
    "data.info()"
   ]
  },
  {
   "cell_type": "markdown",
   "metadata": {},
   "source": [
    "### Corrección valores ausentes en `tenure`\n",
    "\n",
    "Para rellenar los valores ausentes de la variable `tenure` vamos a analizar más a detalle si existe algún patrón subyacente que está determinando la presencia de estos valores. Para esto vamos a comparar las frecuencias relativas de todas las variables en nuestro dataset con valores ausentes `data` y sin valores ausentes `data_no_nan`. "
   ]
  },
  {
   "cell_type": "code",
   "execution_count": 17,
   "metadata": {},
   "outputs": [
    {
     "name": "stdout",
     "output_type": "stream",
     "text": [
      "850    0.0233\n",
      "678    0.0063\n",
      "655    0.0054\n",
      "667    0.0053\n",
      "705    0.0053\n",
      "        ...  \n",
      "412    0.0001\n",
      "351    0.0001\n",
      "365    0.0001\n",
      "373    0.0001\n",
      "423    0.0001\n",
      "Name: credit_score, Length: 460, dtype: float64\n",
      "France     0.5014\n",
      "Germany    0.2509\n",
      "Spain      0.2477\n",
      "Name: geography, dtype: float64\n",
      "Male      0.5457\n",
      "Female    0.4543\n",
      "Name: gender, dtype: float64\n",
      "37    0.0478\n",
      "38    0.0477\n",
      "35    0.0474\n",
      "36    0.0456\n",
      "34    0.0447\n",
      "       ...  \n",
      "92    0.0002\n",
      "88    0.0001\n",
      "82    0.0001\n",
      "85    0.0001\n",
      "83    0.0001\n",
      "Name: age, Length: 70, dtype: float64\n",
      "1.0     0.0952\n",
      "2.0     0.0950\n",
      "8.0     0.0933\n",
      "3.0     0.0928\n",
      "5.0     0.0927\n",
      "7.0     0.0925\n",
      "NaN     0.0909\n",
      "4.0     0.0885\n",
      "9.0     0.0882\n",
      "6.0     0.0881\n",
      "10.0    0.0446\n",
      "0.0     0.0382\n",
      "Name: tenure, dtype: float64\n",
      "0.00         0.3617\n",
      "105473.74    0.0002\n",
      "130170.82    0.0002\n",
      "72594.00     0.0001\n",
      "139723.90    0.0001\n",
      "              ...  \n",
      "130306.49    0.0001\n",
      "92895.56     0.0001\n",
      "132005.77    0.0001\n",
      "166287.85    0.0001\n",
      "104001.38    0.0001\n",
      "Name: balance, Length: 6382, dtype: float64\n",
      "1    0.5084\n",
      "2    0.4590\n",
      "3    0.0266\n",
      "4    0.0060\n",
      "Name: num_of_products, dtype: float64\n",
      "1    0.7055\n",
      "0    0.2945\n",
      "Name: has_cr_card, dtype: float64\n",
      "1    0.5151\n",
      "0    0.4849\n",
      "Name: is_active_member, dtype: float64\n",
      "24924.92     0.0002\n",
      "109145.20    0.0001\n",
      "59755.14     0.0001\n",
      "1557.82      0.0001\n",
      "117202.19    0.0001\n",
      "              ...  \n",
      "37674.47     0.0001\n",
      "158043.11    0.0001\n",
      "103792.53    0.0001\n",
      "182266.01    0.0001\n",
      "155061.97    0.0001\n",
      "Name: estimated_salary, Length: 9999, dtype: float64\n",
      "0    0.7963\n",
      "1    0.2037\n",
      "Name: exited, dtype: float64\n"
     ]
    }
   ],
   "source": [
    "# Construimos un bucle for que devuelva la distribución relativa de cada variable. \n",
    "for col in data:\n",
    "    print(data[col].value_counts(normalize=True, dropna=False))"
   ]
  },
  {
   "cell_type": "code",
   "execution_count": 18,
   "metadata": {},
   "outputs": [
    {
     "name": "stdout",
     "output_type": "stream",
     "text": [
      "850    0.02310\n",
      "678    0.00660\n",
      "655    0.00561\n",
      "705    0.00528\n",
      "683    0.00517\n",
      "        ...   \n",
      "382    0.00011\n",
      "351    0.00011\n",
      "367    0.00011\n",
      "383    0.00011\n",
      "376    0.00011\n",
      "Name: credit_score, Length: 458, dtype: float64\n",
      "France     0.500495\n",
      "Germany    0.252227\n",
      "Spain      0.247278\n",
      "Name: geography, dtype: float64\n",
      "Male      0.547135\n",
      "Female    0.452865\n",
      "Name: gender, dtype: float64\n",
      "37    0.04785\n",
      "35    0.04741\n",
      "38    0.04664\n",
      "34    0.04532\n",
      "33    0.04433\n",
      "       ...   \n",
      "88    0.00011\n",
      "92    0.00011\n",
      "82    0.00011\n",
      "85    0.00011\n",
      "83    0.00011\n",
      "Name: age, Length: 70, dtype: float64\n",
      "1.0     0.104719\n",
      "2.0     0.104499\n",
      "8.0     0.102629\n",
      "3.0     0.102079\n",
      "5.0     0.101969\n",
      "7.0     0.101749\n",
      "4.0     0.097349\n",
      "9.0     0.097019\n",
      "6.0     0.096909\n",
      "10.0    0.049060\n",
      "0.0     0.042020\n",
      "Name: tenure, dtype: float64\n",
      "0.00         0.361126\n",
      "105473.74    0.000220\n",
      "130170.82    0.000220\n",
      "104088.59    0.000110\n",
      "99836.47     0.000110\n",
      "               ...   \n",
      "166287.85    0.000110\n",
      "110929.96    0.000110\n",
      "131406.56    0.000110\n",
      "91611.12     0.000110\n",
      "104001.38    0.000110\n",
      "Name: balance, Length: 5807, dtype: float64\n",
      "1    0.507865\n",
      "2    0.460235\n",
      "3    0.025740\n",
      "4    0.006160\n",
      "Name: num_of_products, dtype: float64\n",
      "1    0.704983\n",
      "0    0.295017\n",
      "Name: has_cr_card, dtype: float64\n",
      "1    0.515565\n",
      "0    0.484435\n",
      "Name: is_active_member, dtype: float64\n",
      "24924.92     0.00022\n",
      "109145.20    0.00011\n",
      "193746.55    0.00011\n",
      "96.27        0.00011\n",
      "190958.48    0.00011\n",
      "              ...   \n",
      "166324.79    0.00011\n",
      "147090.90    0.00011\n",
      "5698.97      0.00011\n",
      "190663.89    0.00011\n",
      "92320.37     0.00011\n",
      "Name: estimated_salary, Length: 9090, dtype: float64\n",
      "0    0.796062\n",
      "1    0.203938\n",
      "Name: exited, dtype: float64\n"
     ]
    }
   ],
   "source": [
    "# Establecemos nuestro dataset sin valores ausentes\n",
    "data_no_nan = data.dropna(subset=['tenure'])\n",
    "\n",
    "# Construimos un bucle for que iterará por cada variable y devolverá sus valores relativos\n",
    "for col in data_no_nan:\n",
    "    print(data_no_nan[col].value_counts(normalize=True))"
   ]
  },
  {
   "cell_type": "markdown",
   "metadata": {},
   "source": [
    "No se observan diferencias significativas entre nuestro dataset con valores ausentes y sin valores ausentes, por lo que se puede establecer que no existe un patrón subyacente o una variable que influya directamente sobre las cuentas a plazos fijos de clientes. Podría ser posible que algunos clientes simplemente no hacen uso de depósitos a plazos fijos dentro de esta institución bancaria. Considerando esto, vamos a utilizar una regresión lineal que prediga los valores de `tenure` y rellenaremos los valores NaN con estas predicciones. No se imputará los valores ausentes con la media o mediana, ya que afectará a la distribución de los datos y afectará la calidad del modelo. \n",
    "\n",
    "Empezamos codificando las características categóricas (`geography`, `gender`), que nos servirá para rellenar valores ausentes y para la posterior construcción de nuestro modelo predictivo. Para esto utilizaremos la codificación One-Hot(OHE) que transforma las características categóricas en numéricas, agregando columnas separadas para cada valor de la función, y asignando valores de 0 y 1. Utilizaremos la función get_dummies de pandas y pasaremos como argumentos el nombre de nuestro dataset y estableceremos drop_firt=True que eliminará a la primera columna para no confundir al modelo."
   ]
  },
  {
   "cell_type": "code",
   "execution_count": 19,
   "metadata": {},
   "outputs": [
    {
     "data": {
      "text/html": [
       "<div>\n",
       "<style scoped>\n",
       "    .dataframe tbody tr th:only-of-type {\n",
       "        vertical-align: middle;\n",
       "    }\n",
       "\n",
       "    .dataframe tbody tr th {\n",
       "        vertical-align: top;\n",
       "    }\n",
       "\n",
       "    .dataframe thead th {\n",
       "        text-align: right;\n",
       "    }\n",
       "</style>\n",
       "<table border=\"1\" class=\"dataframe\">\n",
       "  <thead>\n",
       "    <tr style=\"text-align: right;\">\n",
       "      <th></th>\n",
       "      <th>credit_score</th>\n",
       "      <th>age</th>\n",
       "      <th>tenure</th>\n",
       "      <th>balance</th>\n",
       "      <th>num_of_products</th>\n",
       "      <th>has_cr_card</th>\n",
       "      <th>is_active_member</th>\n",
       "      <th>estimated_salary</th>\n",
       "      <th>exited</th>\n",
       "      <th>geography_Germany</th>\n",
       "      <th>geography_Spain</th>\n",
       "      <th>gender_Male</th>\n",
       "    </tr>\n",
       "  </thead>\n",
       "  <tbody>\n",
       "    <tr>\n",
       "      <th>0</th>\n",
       "      <td>619</td>\n",
       "      <td>42</td>\n",
       "      <td>2.0</td>\n",
       "      <td>0.00</td>\n",
       "      <td>1</td>\n",
       "      <td>1</td>\n",
       "      <td>1</td>\n",
       "      <td>101348.88</td>\n",
       "      <td>1</td>\n",
       "      <td>0</td>\n",
       "      <td>0</td>\n",
       "      <td>0</td>\n",
       "    </tr>\n",
       "    <tr>\n",
       "      <th>1</th>\n",
       "      <td>608</td>\n",
       "      <td>41</td>\n",
       "      <td>1.0</td>\n",
       "      <td>83807.86</td>\n",
       "      <td>1</td>\n",
       "      <td>0</td>\n",
       "      <td>1</td>\n",
       "      <td>112542.58</td>\n",
       "      <td>0</td>\n",
       "      <td>0</td>\n",
       "      <td>1</td>\n",
       "      <td>0</td>\n",
       "    </tr>\n",
       "    <tr>\n",
       "      <th>2</th>\n",
       "      <td>502</td>\n",
       "      <td>42</td>\n",
       "      <td>8.0</td>\n",
       "      <td>159660.80</td>\n",
       "      <td>3</td>\n",
       "      <td>1</td>\n",
       "      <td>0</td>\n",
       "      <td>113931.57</td>\n",
       "      <td>1</td>\n",
       "      <td>0</td>\n",
       "      <td>0</td>\n",
       "      <td>0</td>\n",
       "    </tr>\n",
       "    <tr>\n",
       "      <th>3</th>\n",
       "      <td>699</td>\n",
       "      <td>39</td>\n",
       "      <td>1.0</td>\n",
       "      <td>0.00</td>\n",
       "      <td>2</td>\n",
       "      <td>0</td>\n",
       "      <td>0</td>\n",
       "      <td>93826.63</td>\n",
       "      <td>0</td>\n",
       "      <td>0</td>\n",
       "      <td>0</td>\n",
       "      <td>0</td>\n",
       "    </tr>\n",
       "    <tr>\n",
       "      <th>4</th>\n",
       "      <td>850</td>\n",
       "      <td>43</td>\n",
       "      <td>2.0</td>\n",
       "      <td>125510.82</td>\n",
       "      <td>1</td>\n",
       "      <td>1</td>\n",
       "      <td>1</td>\n",
       "      <td>79084.10</td>\n",
       "      <td>0</td>\n",
       "      <td>0</td>\n",
       "      <td>1</td>\n",
       "      <td>0</td>\n",
       "    </tr>\n",
       "  </tbody>\n",
       "</table>\n",
       "</div>"
      ],
      "text/plain": [
       "   credit_score  age  tenure    balance  num_of_products  has_cr_card  \\\n",
       "0           619   42     2.0       0.00                1            1   \n",
       "1           608   41     1.0   83807.86                1            0   \n",
       "2           502   42     8.0  159660.80                3            1   \n",
       "3           699   39     1.0       0.00                2            0   \n",
       "4           850   43     2.0  125510.82                1            1   \n",
       "\n",
       "   is_active_member  estimated_salary  exited  geography_Germany  \\\n",
       "0                 1         101348.88       1                  0   \n",
       "1                 1         112542.58       0                  0   \n",
       "2                 0         113931.57       1                  0   \n",
       "3                 0          93826.63       0                  0   \n",
       "4                 1          79084.10       0                  0   \n",
       "\n",
       "   geography_Spain  gender_Male  \n",
       "0                0            0  \n",
       "1                1            0  \n",
       "2                0            0  \n",
       "3                0            0  \n",
       "4                1            0  "
      ]
     },
     "execution_count": 19,
     "metadata": {},
     "output_type": "execute_result"
    }
   ],
   "source": [
    "data_ohe = pd.get_dummies(data, drop_first=True)\n",
    "\n",
    "data_ohe.head()"
   ]
  },
  {
   "cell_type": "markdown",
   "metadata": {},
   "source": [
    "Para continuar con la construcción de nuestro modelo de imputación de ausentes, será necesario trabajar con dos datasets, uno que contenga solo valores ausentes `nan_data_ohe` y otro que no contenga valores ausentes `non_nan_data_ohe`. "
   ]
  },
  {
   "cell_type": "code",
   "execution_count": 20,
   "metadata": {},
   "outputs": [],
   "source": [
    "nan_data_ohe = data_ohe[data_ohe['tenure'].isna()]\n",
    "non_nan_data_ohe = data_ohe[~data_ohe['tenure'].isna()]"
   ]
  },
  {
   "cell_type": "markdown",
   "metadata": {},
   "source": [
    "Establecidos nuestro dos datasets, continuamos con la construcción de nuestro modelo de regresión lineal, guardamos nuestro algoritmo de aprendizaje en la variable `lr_nan` y luego entrenamos el modelo en base a nuestro dataset sin valores ausentes, utilizamos como objetivo del modelo a la variable `tenure` y las variables restantes serán las características. Posteriormente, rellenamos los valores ausentes con la función fillna, que utilizará los valores predecidos en base a nuestro dataset con solo valores NaN `nan_data_ohe`. Finalmente, transformaremos el tipo de dato a entero y comprobaremos los cambios llamando al método info."
   ]
  },
  {
   "cell_type": "code",
   "execution_count": 21,
   "metadata": {},
   "outputs": [
    {
     "name": "stdout",
     "output_type": "stream",
     "text": [
      "<class 'pandas.core.frame.DataFrame'>\n",
      "RangeIndex: 10000 entries, 0 to 9999\n",
      "Data columns (total 12 columns):\n",
      " #   Column             Non-Null Count  Dtype  \n",
      "---  ------             --------------  -----  \n",
      " 0   credit_score       10000 non-null  int64  \n",
      " 1   age                10000 non-null  int64  \n",
      " 2   tenure             10000 non-null  int64  \n",
      " 3   balance            10000 non-null  float64\n",
      " 4   num_of_products    10000 non-null  int64  \n",
      " 5   has_cr_card        10000 non-null  int64  \n",
      " 6   is_active_member   10000 non-null  int64  \n",
      " 7   estimated_salary   10000 non-null  float64\n",
      " 8   exited             10000 non-null  int64  \n",
      " 9   geography_Germany  10000 non-null  uint8  \n",
      " 10  geography_Spain    10000 non-null  uint8  \n",
      " 11  gender_Male        10000 non-null  uint8  \n",
      "dtypes: float64(2), int64(7), uint8(3)\n",
      "memory usage: 732.5 KB\n"
     ]
    }
   ],
   "source": [
    "# Construcción de nuestro modelo de regresión lineal en base a nuestro dataset codificado sin valores ausentes\n",
    "lr_nan = LinearRegression()\n",
    "lr_nan.fit(non_nan_data_ohe.drop(columns='tenure'), non_nan_data_ohe['tenure'])\n",
    "\n",
    "# Reemplazo de valores ausentes con las predicciones realizadas por nuestro modelo\n",
    "data_ohe['tenure'].fillna(pd.Series\n",
    "                          (lr_nan.predict(nan_data_ohe.drop(columns='tenure')), \n",
    "                           index=nan_data_ohe.index),\n",
    "                          inplace=True)\n",
    "\n",
    "# Transformación del tipo de dato a entero \n",
    "data_ohe['tenure'] = data_ohe['tenure'].astype('int')\n",
    "\n",
    "# Comprobación de cambios\n",
    "data_ohe.info()"
   ]
  },
  {
   "cell_type": "markdown",
   "metadata": {},
   "source": [
    "### Conclusiones\n",
    "\n",
    "1. Se corrigieron los nombres de columnas que se encontraban en mayúsculas y se eliminaron las columnas `row_number`, `customer_id` y `surname` que no serán necesarias para la construcción de nuestro modelo predictivo. \n",
    "\n",
    "2. Para la imputación de valores ausentes en la columna `tenure`, se creó un modelo de regresión lineal que predijo el período de duración de un depósito de plazo fijo en función de las once características de nuestro dataset. Previamente se codificaron las características categóricas para el correcto funcionamiento del modelo. \n",
    "\n",
    "3. Nuestro dataset final `data_ohe` cuenta con 12 columnas y 10000 filas, nuestro objetivo es la varible `exited` y las 11 variables restantes serán utilizadas como características para entrenar nuestro modelos predictivos.  \n"
   ]
  },
  {
   "cell_type": "markdown",
   "metadata": {},
   "source": [
    "## Estandarización y segmentación de datos fuente\n",
    "\n",
    "Para este proyecto desarrollaremos un modelo predictivo de aprendizaje supervisado, ya que tratamos de reproducir un valor conocido de un conjunto de datos. El tipo de tarea con la que se trabajará es una tarea de clasificación binaria con un objetivo categórico que presenta dos posibles respuestas abandonó el banco-1 o no lo abandonó-0. \n",
    "\n",
    "Las características categóricas ya fueron previamente codificadas a través de la técnica de One-Hot Encoding, así que a continuación procederemos con la estandarización de características numéricas y segmentación de datos. \n",
    "\n",
    "### Estandarización de características numéricas\n",
    "\n",
    "Empezamos con la estandarización de características numéricas, esto se realiza para evitar que el algoritmo determine que una característica es más importante que la otra, al escalar los valores numéricos todas las características son igualmente importantes durante la ejecución del algoritmo. Para esto utilizaremos StandardScaler de la librería Scikit-Learn que ayuda a obtener una distribución estandarizada, con una media de cero y una desviación estándar de uno. "
   ]
  },
  {
   "cell_type": "code",
   "execution_count": 22,
   "metadata": {},
   "outputs": [
    {
     "data": {
      "text/html": [
       "<div>\n",
       "<style scoped>\n",
       "    .dataframe tbody tr th:only-of-type {\n",
       "        vertical-align: middle;\n",
       "    }\n",
       "\n",
       "    .dataframe tbody tr th {\n",
       "        vertical-align: top;\n",
       "    }\n",
       "\n",
       "    .dataframe thead th {\n",
       "        text-align: right;\n",
       "    }\n",
       "</style>\n",
       "<table border=\"1\" class=\"dataframe\">\n",
       "  <thead>\n",
       "    <tr style=\"text-align: right;\">\n",
       "      <th></th>\n",
       "      <th>credit_score</th>\n",
       "      <th>age</th>\n",
       "      <th>tenure</th>\n",
       "      <th>balance</th>\n",
       "      <th>num_of_products</th>\n",
       "      <th>has_cr_card</th>\n",
       "      <th>is_active_member</th>\n",
       "      <th>estimated_salary</th>\n",
       "      <th>exited</th>\n",
       "      <th>geography_Germany</th>\n",
       "      <th>geography_Spain</th>\n",
       "      <th>gender_Male</th>\n",
       "    </tr>\n",
       "  </thead>\n",
       "  <tbody>\n",
       "    <tr>\n",
       "      <th>0</th>\n",
       "      <td>-0.326221</td>\n",
       "      <td>0.293517</td>\n",
       "      <td>-1.066566</td>\n",
       "      <td>-1.225848</td>\n",
       "      <td>-0.911583</td>\n",
       "      <td>1</td>\n",
       "      <td>1</td>\n",
       "      <td>0.021886</td>\n",
       "      <td>1</td>\n",
       "      <td>0</td>\n",
       "      <td>0</td>\n",
       "      <td>0</td>\n",
       "    </tr>\n",
       "    <tr>\n",
       "      <th>1</th>\n",
       "      <td>-0.440036</td>\n",
       "      <td>0.198164</td>\n",
       "      <td>-1.427869</td>\n",
       "      <td>0.117350</td>\n",
       "      <td>-0.911583</td>\n",
       "      <td>0</td>\n",
       "      <td>1</td>\n",
       "      <td>0.216534</td>\n",
       "      <td>0</td>\n",
       "      <td>0</td>\n",
       "      <td>1</td>\n",
       "      <td>0</td>\n",
       "    </tr>\n",
       "    <tr>\n",
       "      <th>2</th>\n",
       "      <td>-1.536794</td>\n",
       "      <td>0.293517</td>\n",
       "      <td>1.101252</td>\n",
       "      <td>1.333053</td>\n",
       "      <td>2.527057</td>\n",
       "      <td>1</td>\n",
       "      <td>0</td>\n",
       "      <td>0.240687</td>\n",
       "      <td>1</td>\n",
       "      <td>0</td>\n",
       "      <td>0</td>\n",
       "      <td>0</td>\n",
       "    </tr>\n",
       "    <tr>\n",
       "      <th>3</th>\n",
       "      <td>0.501521</td>\n",
       "      <td>0.007457</td>\n",
       "      <td>-1.427869</td>\n",
       "      <td>-1.225848</td>\n",
       "      <td>0.807737</td>\n",
       "      <td>0</td>\n",
       "      <td>0</td>\n",
       "      <td>-0.108918</td>\n",
       "      <td>0</td>\n",
       "      <td>0</td>\n",
       "      <td>0</td>\n",
       "      <td>0</td>\n",
       "    </tr>\n",
       "    <tr>\n",
       "      <th>4</th>\n",
       "      <td>2.063884</td>\n",
       "      <td>0.388871</td>\n",
       "      <td>-1.066566</td>\n",
       "      <td>0.785728</td>\n",
       "      <td>-0.911583</td>\n",
       "      <td>1</td>\n",
       "      <td>1</td>\n",
       "      <td>-0.365276</td>\n",
       "      <td>0</td>\n",
       "      <td>0</td>\n",
       "      <td>1</td>\n",
       "      <td>0</td>\n",
       "    </tr>\n",
       "  </tbody>\n",
       "</table>\n",
       "</div>"
      ],
      "text/plain": [
       "   credit_score       age    tenure   balance  num_of_products  has_cr_card  \\\n",
       "0     -0.326221  0.293517 -1.066566 -1.225848        -0.911583            1   \n",
       "1     -0.440036  0.198164 -1.427869  0.117350        -0.911583            0   \n",
       "2     -1.536794  0.293517  1.101252  1.333053         2.527057            1   \n",
       "3      0.501521  0.007457 -1.427869 -1.225848         0.807737            0   \n",
       "4      2.063884  0.388871 -1.066566  0.785728        -0.911583            1   \n",
       "\n",
       "   is_active_member  estimated_salary  exited  geography_Germany  \\\n",
       "0                 1          0.021886       1                  0   \n",
       "1                 1          0.216534       0                  0   \n",
       "2                 0          0.240687       1                  0   \n",
       "3                 0         -0.108918       0                  0   \n",
       "4                 1         -0.365276       0                  0   \n",
       "\n",
       "   geography_Spain  gender_Male  \n",
       "0                0            0  \n",
       "1                1            0  \n",
       "2                0            0  \n",
       "3                0            0  \n",
       "4                1            0  "
      ]
     },
     "execution_count": 22,
     "metadata": {},
     "output_type": "execute_result"
    }
   ],
   "source": [
    "# Guardamos las características numéricas en la variable numeric\n",
    "numeric = ['credit_score', 'age', 'tenure', 'balance', 'num_of_products', 'estimated_salary']\n",
    "\n",
    "# Llamamos a StandardScaler y lo guardamos en la variable scaler\n",
    "scaler = StandardScaler()\n",
    "\n",
    "# Ajustamos y transformamos a nuestros datos numéricos\n",
    "scaler.fit(data_ohe[numeric])\n",
    "data_ohe[numeric] = scaler.transform(data_ohe[numeric])\n",
    "\n",
    "# Comprobamos los cambios\n",
    "data_ohe.head()"
   ]
  },
  {
   "cell_type": "markdown",
   "metadata": {},
   "source": [
    "### Segmentación de datos\n",
    "\n",
    "Una vez codificados y estandarizados nuestras características categóricas y numéricas, vamos a proceder con la segmentación. En este caso, será necesario dividir nuestros datos en tres datasets: dataset de entrenamiento, dataset de validación y dataset prueba. Se realizará esta división ya que no contamos con un dataset de prueba y un dataset de validación mostrará como se comporta el modelo y si existe un sobreajuste. \n",
    "\n",
    "Al dividir un dataset fuente en tres partes la proporción ideal es de 3:1:1, es decir el 60% de datos se asignarán al conjunto de entrenamiento, 20% al conjunto de validación y 20% al conjunto de prueba. Para realizar la división utilizaremos la función `train_test_split` de la librería Skicit-Learn. \n",
    "\n",
    "Empezaremos dividiendo nuestro dataset fuente `df` en el conjunto de datos para el entrenamiento `data_train` con el 60% de datos, y `data_40` que contendrá el 40% de los datos, para esto estableceremos los parámetros `test_size` en 0.40 y `random_state` en 12345. Posteriormente, vamos a dividir `data_40` en nuestros conjuntos de validación `data_valid` y de prueba `data_test`. Cada conjunto contiene el 20% de los datos, por lo que estableceremos `test_size` en 0.50, para obtener dos datasets que contengas el 50% del dataset `df_40` que a su vez correspondría con el 20% del dataset fuente. "
   ]
  },
  {
   "cell_type": "code",
   "execution_count": 23,
   "metadata": {},
   "outputs": [],
   "source": [
    "data_train, data_40 = train_test_split(data_ohe, test_size=0.40, random_state=12345)\n",
    "\n",
    "data_valid, data_test = train_test_split(data_40, test_size=0.50, random_state=12345)"
   ]
  },
  {
   "cell_type": "markdown",
   "metadata": {},
   "source": [
    "Comprobamos que nuestros conjunto de datos de entrenamiento `data_train`, validación `data_valid` y prueba `data_test` se hayan dividido correctamente llamando al atributo shape en cada dataset."
   ]
  },
  {
   "cell_type": "code",
   "execution_count": 24,
   "metadata": {},
   "outputs": [
    {
     "name": "stdout",
     "output_type": "stream",
     "text": [
      "Número de filas y columnas conjunto de entrenamiento: (6000, 12)\n",
      "\n",
      "Número de filas y columnas conjunto de validación: (2000, 12)\n",
      "\n",
      "Número de filas y columnas conjunto de prueba: (2000, 12)\n"
     ]
    }
   ],
   "source": [
    "print('Número de filas y columnas conjunto de entrenamiento:', data_train.shape)\n",
    "print()\n",
    "print('Número de filas y columnas conjunto de validación:', data_valid.shape)\n",
    "print()\n",
    "print('Número de filas y columnas conjunto de prueba:', data_test.shape)"
   ]
  },
  {
   "cell_type": "markdown",
   "metadata": {},
   "source": [
    "Se verifica entonces que el dataset de entrenamiento contiene el 60% de datos(6000 observaciones), y los dataset de validación y prueba el 20% de datos(2000 observaciones cada uno). \n",
    "\n",
    "Una vez establecidos nuestros tres conjuntos de datos, vamos a establecer las características y objetivos de cada dataset. Para las características vamos a utilizar la función drop que eliminará la columna `exited`, y nos quedaremos únicamente con las columnas restantes, guardaremos estos resultados en las variables `features_train`, `features_valid` y `features_test`. Para el objetivo de cada dataset simplemente llamaremos a la columna `exited` y se guardarán estos valores en las variables `target_train`, `target_valid` y `target_test`."
   ]
  },
  {
   "cell_type": "code",
   "execution_count": 25,
   "metadata": {},
   "outputs": [],
   "source": [
    "# Establecemos las características y objetivo del conjunto de datos para el entrenamiento\n",
    "features_train = data_train.drop('exited', axis=1)\n",
    "target_train = data_train['exited']\n",
    "\n",
    "# Establecemos las características y objetivo del conjunto de datos para la validación\n",
    "features_valid = data_valid.drop('exited', axis=1)\n",
    "target_valid = data_valid['exited']\n",
    "\n",
    "# Establecemos las características y objetivo del conjunto de datos para la prueba\n",
    "features_test = data_test.drop('exited', axis=1)\n",
    "target_test = data_test['exited']"
   ]
  },
  {
   "cell_type": "markdown",
   "metadata": {},
   "source": [
    "Comprobamos que los nuevos datasets solo guarden las once características llamando al método info en cada conjunto de datos."
   ]
  },
  {
   "cell_type": "code",
   "execution_count": 26,
   "metadata": {},
   "outputs": [
    {
     "name": "stdout",
     "output_type": "stream",
     "text": [
      "<class 'pandas.core.frame.DataFrame'>\n",
      "Int64Index: 6000 entries, 7479 to 4578\n",
      "Data columns (total 11 columns):\n",
      " #   Column             Non-Null Count  Dtype  \n",
      "---  ------             --------------  -----  \n",
      " 0   credit_score       6000 non-null   float64\n",
      " 1   age                6000 non-null   float64\n",
      " 2   tenure             6000 non-null   float64\n",
      " 3   balance            6000 non-null   float64\n",
      " 4   num_of_products    6000 non-null   float64\n",
      " 5   has_cr_card        6000 non-null   int64  \n",
      " 6   is_active_member   6000 non-null   int64  \n",
      " 7   estimated_salary   6000 non-null   float64\n",
      " 8   geography_Germany  6000 non-null   uint8  \n",
      " 9   geography_Spain    6000 non-null   uint8  \n",
      " 10  gender_Male        6000 non-null   uint8  \n",
      "dtypes: float64(6), int64(2), uint8(3)\n",
      "memory usage: 439.5 KB\n"
     ]
    }
   ],
   "source": [
    "features_train.info()"
   ]
  },
  {
   "cell_type": "code",
   "execution_count": 27,
   "metadata": {},
   "outputs": [
    {
     "name": "stdout",
     "output_type": "stream",
     "text": [
      "<class 'pandas.core.frame.DataFrame'>\n",
      "Int64Index: 2000 entries, 8532 to 6895\n",
      "Data columns (total 11 columns):\n",
      " #   Column             Non-Null Count  Dtype  \n",
      "---  ------             --------------  -----  \n",
      " 0   credit_score       2000 non-null   float64\n",
      " 1   age                2000 non-null   float64\n",
      " 2   tenure             2000 non-null   float64\n",
      " 3   balance            2000 non-null   float64\n",
      " 4   num_of_products    2000 non-null   float64\n",
      " 5   has_cr_card        2000 non-null   int64  \n",
      " 6   is_active_member   2000 non-null   int64  \n",
      " 7   estimated_salary   2000 non-null   float64\n",
      " 8   geography_Germany  2000 non-null   uint8  \n",
      " 9   geography_Spain    2000 non-null   uint8  \n",
      " 10  gender_Male        2000 non-null   uint8  \n",
      "dtypes: float64(6), int64(2), uint8(3)\n",
      "memory usage: 146.5 KB\n"
     ]
    }
   ],
   "source": [
    "features_valid.info()"
   ]
  },
  {
   "cell_type": "code",
   "execution_count": 28,
   "metadata": {},
   "outputs": [
    {
     "name": "stdout",
     "output_type": "stream",
     "text": [
      "<class 'pandas.core.frame.DataFrame'>\n",
      "Int64Index: 2000 entries, 7041 to 3366\n",
      "Data columns (total 11 columns):\n",
      " #   Column             Non-Null Count  Dtype  \n",
      "---  ------             --------------  -----  \n",
      " 0   credit_score       2000 non-null   float64\n",
      " 1   age                2000 non-null   float64\n",
      " 2   tenure             2000 non-null   float64\n",
      " 3   balance            2000 non-null   float64\n",
      " 4   num_of_products    2000 non-null   float64\n",
      " 5   has_cr_card        2000 non-null   int64  \n",
      " 6   is_active_member   2000 non-null   int64  \n",
      " 7   estimated_salary   2000 non-null   float64\n",
      " 8   geography_Germany  2000 non-null   uint8  \n",
      " 9   geography_Spain    2000 non-null   uint8  \n",
      " 10  gender_Male        2000 non-null   uint8  \n",
      "dtypes: float64(6), int64(2), uint8(3)\n",
      "memory usage: 146.5 KB\n"
     ]
    }
   ],
   "source": [
    "features_test.info()"
   ]
  },
  {
   "cell_type": "markdown",
   "metadata": {},
   "source": [
    "Se comprueba que las variables features solo presenta las 11 características necesarias para la construcción de nuestros modelos en los tres conjuntos de datos. Así que ahora podemos proceder con la construcción de modelos predictivos. \n",
    "\n",
    "## Desequilibrio de clases"
   ]
  },
  {
   "cell_type": "markdown",
   "metadata": {},
   "source": [
    "Vamos a examinar el equilibrio de clases en nuestro objetivo `exited` para esto llamaremos a value_counts() en nuestra variable target_train del conjunto de datos de entrenamiento, y también trazaremos gráficos de barras para visualizar mejor los resultados. "
   ]
  },
  {
   "cell_type": "code",
   "execution_count": 29,
   "metadata": {},
   "outputs": [
    {
     "name": "stdout",
     "output_type": "stream",
     "text": [
      "0    0.800667\n",
      "1    0.199333\n",
      "Name: exited, dtype: float64\n"
     ]
    },
    {
     "data": {
      "image/png": "[encoded data removed]",
      "text/plain": [
       "<Figure size 432x288 with 1 Axes>"
      ]
     },
     "metadata": {
      "needs_background": "light"
     },
     "output_type": "display_data"
    }
   ],
   "source": [
    "print(target_train.value_counts(normalize=True))\n",
    "target_train.value_counts(normalize=True).plot(kind='bar', rot=0)\n",
    "plt.ylabel('Frequency')\n",
    "plt.xlabel('Exited')\n",
    "plt.title('Desequilibrio de clases')\n",
    "plt.show()\n"
   ]
  },
  {
   "cell_type": "markdown",
   "metadata": {},
   "source": [
    "Las clases se encuentran desequilibradas cuando su proporción está lejos de 1:1, el equilibrio de clases se observa cuando el número es aproximadamente igual. En nuestro datos podemos observar un marcado desbalance de clases, con un 20% de clientes que han abandonado la entidad bancaria y un 80% que todavía permanecen dentro de la institución. Con una relación de 4:1, podemos establecer una diferencia significativa, así que se confirma un desequilibrio de clases para nuestros datos. Considerando esto, no se podrá utilizar métricas como la exactitud, ya que son más sensibles a un desbalance en las clases, siendo la mejor opción trabajar con la métrica F1. \n",
    "\n",
    "Confirmado el desequilibrio de clases, vamos a construir modelos sin tomar en consideración el desbalance y luego construiremos modelos tomando en cuenta el desbalance a través del sobremuestreo, submuestreo y el ajuste de peso de clase. \n",
    "\n",
    "## Modelos sin desequilibrio de clases\n",
    "\n",
    "Empecemos construyendo modelos sin considerar el desequilibrio de clases, esto nos permitirá ver cómo se comportan los diferentes modelos y métricas ante este desbalance. Utilizaremos tres algoritmos de aprendizaje para la construcción de estos modelos: Árbol de Decisión, Bosque Aleatorio y Regresión Logística. \n",
    "\n",
    "Para evaluar la calidad del modelo nos enfocaremos en dos métricas:\n",
    "\n",
    "- **Valor F1:** es una métrica que evalúa un modelo con puntajes que van de 0 a 1, dónde 1 es el mejor puntaje y 0 es el peor puntaje y determina que la predicción ha fallado. Es una de las mejore métricas para evaluar datasets con desequilibrio de clases, como nuestros datos. El valor F1 representa la media armónica y evalua tanto la precisión como la sensibilidad o Recall. \n",
    "- **AUC-ROC:** Área Bajo la Curva de la Característica Operativa del Receptor, es una métrica que evalúa modelos de predicción con valores de 0.5 a 1, dónde 1 es el mejor puntaje que se puede alcanzar y 0.5 el modelo es igual a un modelo aleatorio. Nos permite establecer cuánto difiere nuestro modelo de un modelo aleatorio. Este modelo se construye en base a la curva ROC que compara la tasa de verdaderos positivos y la tasa de falsos positivos.\n",
    "\n",
    "### Árbol de Decisión\n",
    "\n",
    "El primer algoritmo de aprendizaje supervisado que utilizaremos es un árbol de decisión, este divide los datos en dos o más conjuntos homogéneos y utiliza reglas if-then o condiciones para separar los datos según las dos categorías que se busca predecir. Para trabajar con un árbol de decisión clasificatorio vamos a llamar a la función DecissionTreeClassifier del módulo tree en la librería Scikit-Learn, lo que ya hemos realizado en la sección de inicialización. \n",
    "\n",
    "Guardaremos a nuestro modelo en la variable `tree_model`, dentro de la cual llamaremos a la función DecissionTreeClassifier y estableceremos el hiperparamétro random_state=12345 para poder duplicar modelos existosos utilizando el mismo conjunto de números pseudoaleatorios. Para establecer la profundidad máxima o el número máximo de condiciones más apropiada para nuestro modelo, construiremos un bucle for que iterará por diferentes profundidades dentro del rango de 1 a 10. \n",
    "\n",
    "Posteriormente, vamos a entrenar nuestro modelo para esto pasaremos las características y el objetivo de nuestro conjunto de entrenamiento como argumento de la función fit. Luego crearemos la variable `predicted_valid` que predecirá los valores 0 o 1 con los datos del conjunto de validación. En base a estos valores calcularemos `f1_score`. También calcularemos las probabilidades con el valor de `auc_score`."
   ]
  },
  {
   "cell_type": "code",
   "execution_count": 30,
   "metadata": {},
   "outputs": [
    {
     "name": "stdout",
     "output_type": "stream",
     "text": [
      "Árbol de Decisión con desbalance de clases (max_depth = 9)| F1_Score = 0.5710187, AUC_ROC = 0.7825878\n"
     ]
    }
   ],
   "source": [
    "best_score = 0\n",
    "best_depth = 0\n",
    "auc_score = 0\n",
    "\n",
    "for depth in range(1, 11):\n",
    "    tree_model = DecisionTreeClassifier(random_state=12345, max_depth=depth)\n",
    "    tree_model.fit(features_train, target_train)\n",
    "    \n",
    "    predicted_valid = tree_model.predict(features_valid)\n",
    "    probabilites_valid = tree_model.predict_proba(features_valid)\n",
    "    probabilites_one_valid = probabilites_valid[:, 1]\n",
    "    \n",
    "    score = f1_score(target_valid, predicted_valid) \n",
    "    auc_roc = roc_auc_score(target_valid, probabilites_one_valid)\n",
    "    \n",
    "    if score > best_score:\n",
    "            \n",
    "        best_score = score\n",
    "        best_depth = depth\n",
    "        auc_score = auc_roc\n",
    "    \n",
    "print(\n",
    "        'Árbol de Decisión con desbalance de clases (max_depth = {})| F1_Score = {:.7f}, AUC_ROC = {:.7f}'.format(\n",
    "                best_depth, best_score, auc_score\n",
    "            )\n",
    "        )"
   ]
  },
  {
   "cell_type": "markdown",
   "metadata": {},
   "source": [
    "Para el modelo de árbol de decisión con desequilibrio de clases el valor F1 más alto registrado corresponde a una profundidad máxima de 9, con un F1 de 0.5710 y un AUC-ROC de 0.7825. El valor F1 es inferior al umbral mínimo de 0.59 que busca este proyecto. \n",
    "\n",
    "### Bosque Aleatorio\n",
    "\n",
    "Nuestro segundo modelo lo vamos a construir a partir del algoritmo de aprendizaje conocido como Bosque Aleatorio. Estos se basan en árboles de decisión, pero no entrena un sólo árbol sino un bosque o una gran cantidad de árboles independientes y toman decisiones mediante el voto, es decir suman los votos de diferentes formaciones aleatorias de los árboles de decisión para determinar la clase final a la que pertenece un cliente. \n",
    "\n",
    "Para determinar el modelo de Bosque Aleatorio con mayor exactitud vamos a llamar a la función RandomForestClassifier del módulo ensemble de la librería Scikit-Learn, y guardaremos nuestro modelo en la variable `forest_model`. Dentro de la función pasaremos el hiperpárametro random_state=12345 para poder replicar nuestro modelo utilizando los mismos números pseudoaleatorios. En el caso de los hiperparámetros n-estimators(número de árboles en el bosque) y max_depth(profundidad máxima) vamos a generar un doble bucle for que iterará por un rango de profundidades de 1 a 10 y un rango de árboles de 10 a 50, en intervalos de 10, estableciendo así los valores ideales para un mejor modelo. \n",
    "\n",
    "Entrenaremos nuestro modelo `forest_model` con nuestro conjunto de datos para el entrenamiento `features_train` y `target_train`, y posteriormente evaluaremos la calidad de nuestro modelo aplicando la función f1_score y roc_auc_score al objetivo del conjunto de validación. Para poder determinar el número de árboles y profundidad máxima que generó el modelo con mayor exactitud vamos a establecer tres contadores `best_score`, `best_est` y `best_depth` que si registran el valor de exactitud más alto, guardarán los valores de max_depth y n_estimators que generaron dicha exactitud en los contadores previamente mencionados."
   ]
  },
  {
   "cell_type": "code",
   "execution_count": 31,
   "metadata": {},
   "outputs": [
    {
     "name": "stdout",
     "output_type": "stream",
     "text": [
      "Bosque Aleatorio con desbalance de clases (n_estimators = 20, max_depth = 9) | F1 = 0.574924, AUC-ROC = 0.848913\n"
     ]
    }
   ],
   "source": [
    "best_score = 0\n",
    "best_est = 0\n",
    "best_depth = 0\n",
    "auc_score = 0\n",
    "\n",
    "for est in range(10,51,10):\n",
    "    \n",
    "    for depth in range(1,11):\n",
    "        \n",
    "        forest_model= RandomForestClassifier(random_state=12345, n_estimators=est, max_depth=depth)\n",
    "        \n",
    "        forest_model.fit(features_train, target_train)\n",
    "        predicted_valid = forest_model.predict(features_valid)\n",
    "        \n",
    "        probabilites_valid = forest_model.predict_proba(features_valid)\n",
    "        probabilites_one_valid = probabilites_valid[:, 1]\n",
    "        \n",
    "        score = f1_score(target_valid, predicted_valid)\n",
    "        auc_roc = roc_auc_score(target_valid, probabilites_one_valid)\n",
    "        \n",
    "        if score > best_score:\n",
    "            \n",
    "            best_score = score\n",
    "            best_est = est\n",
    "            best_depth = depth\n",
    "            auc_score = auc_roc\n",
    "            \n",
    "print(\n",
    "    \n",
    "    \"Bosque Aleatorio con desbalance de clases (n_estimators = {}, max_depth = {}) | F1 = {:.6f}, AUC-ROC = {:.6f}\".format(\n",
    "        best_est, best_depth, best_score, auc_score)\n",
    ")"
   ]
  },
  {
   "cell_type": "markdown",
   "metadata": {},
   "source": [
    "Para nuestro modelo de Bosque Aleatorio se registró el valor F1 más alto 0.5749 para 20 estimadores y un profundidad máxima de 9, a su vez el valor AUC-ROC registrado fue de 0.8489. Al igual que el modelo anterior obtenemos un valor F1 que no llega al umbral de este proyecto, sin embargo el valor AUC-ROC obtenido es de 0.8489 lo que indica que si bien el modelo no presenta una buena precisión y sensibilidad, es bueno prediciendo valores verdaderos positivos. \n",
    "\n",
    "\n",
    "### Regresión Logística\n",
    "\n",
    "El tercer algoritmo de aprendizaje que utilizaremos para entrenar a nuestro modelo será el de Regresión Logística. Este algoritmo coloca nuestros datos en forma de una curva sigmoide y establece la probabilidad de que las diferentes características correspondan a la clase 1 o 0. El modelo calcula la proximidad de clase para cada observación en los datos de entrenamiento y les asigna leyendas, si la probabilidad es más cercana a cero se clasificará como NoExited-0 y si la probabilidad es más cercana a 1 entonces se clasificará como Exited-1.\n",
    "\n",
    "Llamaremos a nuestro modelo `regression_model` y llamaremos a la función LogisticRegressión del módulo linear_model de la librería Scikit-learn, a esta función pasaremos los hiperparámetros para el posterior entrenamiento del modelo. Estableceremos los hiperparámetros random_state=12345 que volverá estática la pseudoaleatoriedad y solver=liblinear que se utiliza para el ajuste de curva del algoritmo en datasets pequeños. \n",
    "\n",
    "Posteriormente, calcularemos el puntaje F1 a partir de los valores de objetivo y predicciones realizadas a partir del conjunto de validación. Así mismo, se calculará AUC-ROC a partir de la predicción de probabilidades de nuestros datos de validación. "
   ]
  },
  {
   "cell_type": "code",
   "execution_count": 32,
   "metadata": {},
   "outputs": [
    {
     "name": "stdout",
     "output_type": "stream",
     "text": [
      "Regresión Logística con desbalance de clases | F1 = 0.333333, AUC-ROC = 0.758895\n"
     ]
    }
   ],
   "source": [
    "regression_model = LogisticRegression(random_state=12345, solver='liblinear')\n",
    "\n",
    "regression_model.fit(features_train, target_train)\n",
    "\n",
    "predicted_valid = regression_model.predict(features_valid)\n",
    "\n",
    "probabilites_valid = regression_model.predict_proba(features_valid)\n",
    "probabilites_one_valid = probabilites_valid[:, 1]\n",
    "\n",
    "score = f1_score(target_valid, predicted_valid)\n",
    "auc_score = roc_auc_score(target_valid, probabilites_one_valid)\n",
    "\n",
    "print(\n",
    "    \n",
    "    \"Regresión Logística con desbalance de clases | F1 = {:.6f}, AUC-ROC = {:.6f}\".format(\n",
    "        score, auc_score)\n",
    ")"
   ]
  },
  {
   "cell_type": "markdown",
   "metadata": {},
   "source": [
    "Para el modelo de regresión logística el valor F1 alcanzado es de 0.3333 y AUC-ROC de 0.7588, lo que representa el valor más bajo entre los tres modelos estudiados, encontrándose significativamente por debajo del umbral de 0.59 que busca este estudio. Sin embargo, el valor de AUC-ROC fue inferior a el modelo de árbol de decisión. \n",
    "\n",
    "### Conclusiones\n",
    "\n",
    "Al construir modelos sin considerar el desbalance de clases, se estableció que el modelo de Bosque Aleatorio es el que alcanzó el puntaje F1 más alto, sin embargo no alcanzó el umbral que busca este estudio de 0.59. En el caso del valor de AUC-ROC el valor más alto fue para el bosque aleatorio y el más bajo para el modelo de regresión logística. El modelo que registró el valor F1 más bajo fue el de Regresión Logística. \n",
    "\n",
    "Cuando no tomamos en consideración el desbalance de clases en nuestro conjunto de datos, el valor F1 es inferior al deseado. Esto debido a que F1 se calcula a partir de la media armónica entre la precisión y la sensibilidad, por lo que solo toma en cuenta a verdaderos positivos, falsos positivos y falsos negativos. Al construir los modelos ignorando que la clase negativa es la que se encuentra en mayor proporción, nuestros modelos no están entrenados para predecir correctamente la clase con un mayor peso, en este caso los verdaderos negativos, haciendo que el valor F1 no alcance el umbral deseado. \n",
    "\n",
    "Por otro lado, en el caso del valor AUC-ROC se registraron valores por encima de 0.70 para los tres modelos estudiados. Si consideramos que esta métrica se construye en base a umbrales de la tasa de verdaderos positivos y la tasa de falsos positivos; al no tomar en cuenta el desbalance de clases, la tasa de falsos positivos incrementará debido a que los negativos se encuentran en mayor propoción y están siendo predecidos como positivos, haciendo que los valores AUC-ROC incrementen sin mucho esfuerzo. Por lo que se puede concluir que la métrica AUC-ROC es mucho más susceptible al desquilibrio de clases. \n",
    "\n",
    "\n",
    "## Modelos con desequilibrio de clases\n",
    "\n",
    "Ahora construiremos modelos tomando en consideración el desequilibrio de clases, probaremos con tres técnicas para corregir este desbalance: \n",
    "- Sobremuestreo\n",
    "- Submuestreo\n",
    "- Ajuste de peso de clase. \n",
    "\n",
    "Aplicaremos estas técnicas para construir diferentes modelos de aprendizaje supervisado, y utilizaremos tres algoritmos de aprendizaje: árbol de decisión, bosque aleatorio y regresión logística. Escogeremos el modelo con los hiperparámetros específicos que alcancen un valor F1 superior a 0.59.  \n",
    "\n",
    "### Sobremuestreo\n",
    "\n",
    "El sobremuestreo busca que las observaciones de una clase rara se vuelvan menos raras. En nuestro caso, duplicaremos las observaciones de la clase 1 para que se vuelva más frecuente. Para realizar esto construiremos la función `upsample` que dividirá el conjunto de datos de entrenamiento en observaciones positivas y negativas. Duplicará las observaciones positivas varias veces, y creará una nueva muestra de entrenamiento `features_upsampled` y `target_upsampled`. Finalmente se mezclará la nueva muestra  a través de la función shuffle de Scikit-learn. Contará con los siguientes argumentos:\n",
    "\n",
    "- `features:` características del conjunto de entrenamiento\n",
    "- `target:` objetivo del conjunto de entrenamiento\n",
    "- `repeat:` número de repeticiones "
   ]
  },
  {
   "cell_type": "code",
   "execution_count": 33,
   "metadata": {},
   "outputs": [],
   "source": [
    "def upsample(features, target, repeat):\n",
    "    \n",
    "# Dividimos en observaciones positivas y negativas\n",
    "    features_zeros = features[target == 0]\n",
    "    features_ones = features[target == 1]\n",
    "    target_zeros = target[target == 0]\n",
    "    target_ones = target[target == 1]\n",
    "    \n",
    "# Duplicamos las observaciones raras varias veces \n",
    "    features_upsampled = pd.concat([features_zeros] + [features_ones] * repeat)\n",
    "    \n",
    "    target_upsampled = pd.concat([target_zeros] + [target_ones] * repeat)\n",
    "    \n",
    "# Barajamos los datos para el entrenamiento\n",
    "    features_upsampled, target_upsampled = shuffle(features_upsampled, \n",
    "                                                   target_upsampled, \n",
    "                                                   random_state=12345)\n",
    "    return features_upsampled, target_upsampled\n"
   ]
  },
  {
   "cell_type": "markdown",
   "metadata": {},
   "source": [
    "Una vez construida la función `upsample` la vamos a aplicar a nuestro conjunto de entrenamiento y estableceremos el número de repeticiones en 4. Posteriormente comprobaremos el tamaño de nuestra nueva muestra a través del atributo shape y comprobaremos la distribución de valores entre ambas clases con value_counts. "
   ]
  },
  {
   "cell_type": "code",
   "execution_count": 34,
   "metadata": {},
   "outputs": [
    {
     "name": "stdout",
     "output_type": "stream",
     "text": [
      "Tamaño características sobremuestreo: (9588, 11)\n",
      "Tamaño objetivo sobremuestreo: (9588,)\n"
     ]
    }
   ],
   "source": [
    "# Aplicamos la función a nuestro conjunto de entrenamiento \n",
    "features_upsampled, target_upsampled = upsample(features_train, target_train, 4)\n",
    "\n",
    "# Comprobamos el tamaño de muestra\n",
    "print('Tamaño características sobremuestreo:', features_upsampled.shape)\n",
    "print('Tamaño objetivo sobremuestreo:', target_upsampled.shape)"
   ]
  },
  {
   "cell_type": "code",
   "execution_count": 35,
   "metadata": {},
   "outputs": [
    {
     "data": {
      "text/plain": [
       "0    4804\n",
       "1    4784\n",
       "Name: exited, dtype: int64"
      ]
     },
     "execution_count": 35,
     "metadata": {},
     "output_type": "execute_result"
    }
   ],
   "source": [
    "target_upsampled.value_counts()"
   ]
  },
  {
   "cell_type": "markdown",
   "metadata": {},
   "source": [
    "Establecido nuestra nueva muestra de entrenamiento, vamos a entrenar diferentes modelos para observar cómo influye esta técnica de correción de desequilibrio de clases. Utilizaremos la misma metodología para la construcción de modelos que se aplicó en los modelos sin desequilibrio de clases. \n",
    "\n",
    "**ÁRBOL DE DECISIÓN SOBREMUESTREO**"
   ]
  },
  {
   "cell_type": "code",
   "execution_count": 36,
   "metadata": {},
   "outputs": [
    {
     "name": "stdout",
     "output_type": "stream",
     "text": [
      "Árbol de Decisión con Sobremuestreo (max_depth = 5)| F1_Score = 0.5963791, AUC_ROC = 0.8310244\n"
     ]
    }
   ],
   "source": [
    "best_score = 0\n",
    "best_depth = 0\n",
    "auc_score = 0\n",
    "\n",
    "for depth in range(1, 12):\n",
    "    dt_umsampled = DecisionTreeClassifier(random_state=12345, max_depth=depth)\n",
    "    dt_umsampled.fit(features_upsampled, target_upsampled)\n",
    "    \n",
    "    predicted_valid = dt_umsampled.predict(features_valid)\n",
    "    \n",
    "    probabilites_valid = dt_umsampled.predict_proba(features_valid)\n",
    "    probabilites_one_valid = probabilites_valid[:, 1]\n",
    "    \n",
    "    score = f1_score(target_valid, predicted_valid) \n",
    "    auc_roc = roc_auc_score(target_valid, probabilites_one_valid)\n",
    "    \n",
    "    if score > best_score:\n",
    "            \n",
    "        best_score = score\n",
    "        best_depth = depth\n",
    "        auc_score = auc_roc\n",
    "    \n",
    "print(\n",
    "        'Árbol de Decisión con Sobremuestreo (max_depth = {})| F1_Score = {:.7f}, AUC_ROC = {:.7f}'.format(\n",
    "                best_depth, best_score, auc_score\n",
    "            )\n",
    "        )"
   ]
  },
  {
   "cell_type": "markdown",
   "metadata": {},
   "source": [
    "**BOSQUE ALEATORIO SOBREMUESTREO**"
   ]
  },
  {
   "cell_type": "code",
   "execution_count": 37,
   "metadata": {},
   "outputs": [
    {
     "name": "stdout",
     "output_type": "stream",
     "text": [
      "Bosque Aleatorio con Sobremuestreo (n_estimators = 40, max_depth = 9) | F1 = 0.624464, AUC-ROC = 0.854218\n"
     ]
    }
   ],
   "source": [
    "best_score = 0\n",
    "best_est = 0\n",
    "best_depth = 0\n",
    "auc_score = 0\n",
    "\n",
    "for est in range(10,51,10):\n",
    "    \n",
    "    for depth in range(1,11):\n",
    "        \n",
    "        rf_upsampled= RandomForestClassifier(random_state=12345, n_estimators=est, max_depth=depth)\n",
    "        \n",
    "        rf_upsampled.fit(features_upsampled, target_upsampled)\n",
    "        predicted_valid = rf_upsampled.predict(features_valid)\n",
    "        probabilites_valid = rf_upsampled.predict_proba(features_valid)\n",
    "        probabilites_one_valid = probabilites_valid[:, 1]\n",
    "        \n",
    "        score = f1_score(target_valid, predicted_valid)\n",
    "        auc_roc = roc_auc_score(target_valid, probabilites_one_valid)\n",
    "        \n",
    "        if score > best_score:\n",
    "            \n",
    "            best_score = score\n",
    "            best_est = est\n",
    "            best_depth = depth\n",
    "            auc_score = auc_roc\n",
    "\n",
    "print(\n",
    "    \n",
    "    \"Bosque Aleatorio con Sobremuestreo (n_estimators = {}, max_depth = {}) | F1 = {:.6f}, AUC-ROC = {:.6f}\".format(\n",
    "        best_est, best_depth, best_score, auc_score)\n",
    ")"
   ]
  },
  {
   "cell_type": "markdown",
   "metadata": {},
   "source": [
    "**REGRESIÓN LOGÍSTICA SOBREMUESTREO**"
   ]
  },
  {
   "cell_type": "code",
   "execution_count": 38,
   "metadata": {},
   "outputs": [
    {
     "name": "stdout",
     "output_type": "stream",
     "text": [
      "Regresión Logística con Sobremuestreo | F1 = 0.491409, AUC-ROC = 0.763872\n"
     ]
    }
   ],
   "source": [
    "rl_upsampled = LogisticRegression(random_state=12345, solver='liblinear')\n",
    "\n",
    "rl_upsampled.fit(features_upsampled, target_upsampled)\n",
    "\n",
    "predicted_valid = rl_upsampled.predict(features_valid)\n",
    "\n",
    "probabilites_valid = rl_upsampled.predict_proba(features_valid)\n",
    "probabilites_one_valid = probabilites_valid[:, 1]\n",
    "\n",
    "score = f1_score(target_valid, predicted_valid)\n",
    "auc_score = roc_auc_score(target_valid, probabilites_one_valid)\n",
    "\n",
    "print(\n",
    "    \n",
    "    \"Regresión Logística con Sobremuestreo | F1 = {:.6f}, AUC-ROC = {:.6f}\".format(\n",
    "        score, auc_score)\n",
    ")"
   ]
  },
  {
   "cell_type": "markdown",
   "metadata": {},
   "source": [
    "El mejor modelo para el sobremuestreo fue el Bosque Aleatorio con 40 estimadores y 9 de profundidad máxima, alcanzando un valor F1 de 0.6244 y un AUC-ROC de 0.8542, encontrándose por encima del umbral establecido. En segundo lugar, se encuentra el modelo de Árbol de decisión que alcanzó un puntaje F1 de 0.5963 y un AUC-ROC de 0.8310, justo por encima del valor 0.59. En el caso del modelo de regresión logística, se obtuvieron valores por debajo del umbral incluso aplicando la técnica de sobremuestreo. Hay que considerar que el tiempo de ejecución del modelo de Bosque Aleatorio es superior al Árbol de Decisión, por lo que si queremos ahorrar tiempo se podría considerar este modelo predictivo. \n",
    "\n",
    "### Submuestreo\n",
    "\n",
    "Ahora vamos a aplicar la técnica de submuestreo, que busca que las observaciones de una clase frecuente sean menos frecuentes, en este caso vamos a eliminar al azar un parte de las observaciones negativas que son la clase con mayor proporción en nuestro conjunto de datos. Para lograr esto, procederemos a construir la función `downsample` que dividirá el conjunto de datos para el entrenamiento en observaciones positivas y negativas. Luego, soltará al azar una parte de las observaciones negativas a través de la función sample que descarta de forma aleatoria algunos elementos de la tabla. A continuación, creará una nueva muestra de entrenamiento `features_downsampled` y `target_downsampled`, basada en los datos después de la pérdida de valores. Finalmente, mezclará los datos a través de la función shuffle. La función contará con los siguientes argumentos:\n",
    "\n",
    "- `features:` características del conjunto de entrenamiento\n",
    "- `target:` objetivo del conjunto de entrenamiento\n",
    "- `fraction:` argumento de la función sample que estable la fracción de elementos que se devolverá. "
   ]
  },
  {
   "cell_type": "code",
   "execution_count": 39,
   "metadata": {},
   "outputs": [],
   "source": [
    "def downsample(features, target, fraction):\n",
    "    \n",
    "# Dividimos el conjunto de entrenamiento en observaciones positivas y negativas\n",
    "    features_zeros = features[target == 0]\n",
    "    features_ones = features[target == 1]\n",
    "    target_zeros = target[target == 0]\n",
    "    target_ones = target[target == 1]\n",
    "\n",
    "# Soltamos al azar las observaciones negativas con la función sample\n",
    "    features_downsampled = pd.concat(\n",
    "        [features_zeros.sample(frac=fraction, random_state=12345)] + [features_ones])\n",
    "    \n",
    "    target_downsampled = pd.concat(\n",
    "        [target_zeros.sample(frac=fraction, random_state=12345)] + [target_ones])\n",
    "    \n",
    "# Mezclamos los datos a través de la función shuffle\n",
    "    features_downsampled, target_downsampled = shuffle(features_downsampled, \n",
    "                                                   target_downsampled, \n",
    "                                                   random_state=12345)\n",
    "    return features_downsampled, target_downsampled"
   ]
  },
  {
   "cell_type": "markdown",
   "metadata": {},
   "source": [
    "Una vez definida nuestra función procedemos a establecer nuestras nuevas variables de entrenamiento, para esto pasamos como argumentos a nuestra función el conjunto de datos de entrenamiento y fraction igual a 0.25 (proporción de clases desbalanceadas 20/80=0.25).  Comprobamos el tamaño de nuestra nueva muestra llamando al atributo shape y a la función value_counts. "
   ]
  },
  {
   "cell_type": "code",
   "execution_count": 40,
   "metadata": {},
   "outputs": [
    {
     "name": "stdout",
     "output_type": "stream",
     "text": [
      "Tamaño características submuestreo: (2397, 11)\n",
      "Tamaño objetivo submuestreo: (2397,)\n"
     ]
    }
   ],
   "source": [
    "features_downsampled, target_downsampled = downsample(features_train, target_train, 0.25)\n",
    "\n",
    "print('Tamaño características submuestreo:', features_downsampled.shape)\n",
    "print('Tamaño objetivo submuestreo:', target_downsampled.shape)"
   ]
  },
  {
   "cell_type": "code",
   "execution_count": 41,
   "metadata": {},
   "outputs": [
    {
     "data": {
      "text/plain": [
       "0    0.501043\n",
       "1    0.498957\n",
       "Name: exited, dtype: float64"
      ]
     },
     "execution_count": 41,
     "metadata": {},
     "output_type": "execute_result"
    }
   ],
   "source": [
    "#CELDA DE REVISOR\n",
    "\n",
    "target_downsampled.value_counts(normalize=True)"
   ]
  },
  {
   "cell_type": "code",
   "execution_count": 42,
   "metadata": {},
   "outputs": [
    {
     "data": {
      "text/plain": [
       "0    1201\n",
       "1    1196\n",
       "Name: exited, dtype: int64"
      ]
     },
     "execution_count": 42,
     "metadata": {},
     "output_type": "execute_result"
    }
   ],
   "source": [
    "target_downsampled.value_counts()"
   ]
  },
  {
   "cell_type": "markdown",
   "metadata": {},
   "source": [
    "Procedemos a aplicar la función a diferentes modelos de aprendizaje supervisado, hasta encontrar aquel modelo e hiperparámetros que generen el valor F1 por encima del umbral deseado. \n",
    "\n",
    "**ÁRBOL DE DECISIÓN SUBMUESTREO**"
   ]
  },
  {
   "cell_type": "code",
   "execution_count": 43,
   "metadata": {},
   "outputs": [
    {
     "name": "stdout",
     "output_type": "stream",
     "text": [
      "Árbol de Decisión con Submuestreo (max_depth = 5)| F1_Score = 0.5943205, AUC_ROC = 0.8241029\n"
     ]
    }
   ],
   "source": [
    "best_score = 0\n",
    "best_depth = 0\n",
    "auc_score = 0\n",
    "\n",
    "for depth in range(1, 12):\n",
    "    dt_downsampled = DecisionTreeClassifier(random_state=12345, max_depth=depth)\n",
    "    dt_downsampled.fit(features_downsampled, target_downsampled)\n",
    "    \n",
    "    predicted_valid = dt_downsampled.predict(features_valid)\n",
    "    probabilites_valid = dt_downsampled.predict_proba(features_valid)\n",
    "    probabilites_one_valid = probabilites_valid[:, 1]\n",
    "    \n",
    "    score = f1_score(target_valid, predicted_valid) \n",
    "    auc_roc = roc_auc_score(target_valid, probabilites_one_valid)\n",
    "    \n",
    "    if score > best_score:\n",
    "            \n",
    "        best_score = score\n",
    "        best_depth = depth\n",
    "        auc_score = auc_roc\n",
    "    \n",
    "print(\n",
    "        'Árbol de Decisión con Submuestreo (max_depth = {})| F1_Score = {:.7f}, AUC_ROC = {:.7f}'.format(\n",
    "                best_depth, best_score, auc_score\n",
    "            )\n",
    "        )"
   ]
  },
  {
   "cell_type": "markdown",
   "metadata": {},
   "source": [
    "**BOSQUE ALEATORIO SUBMUESTREO**"
   ]
  },
  {
   "cell_type": "code",
   "execution_count": 44,
   "metadata": {},
   "outputs": [
    {
     "name": "stdout",
     "output_type": "stream",
     "text": [
      "Bosque Aleatorio con Submuestreo (n_estimators = 10, max_depth = 4) | F1 = 0.609218, AUC-ROC = 0.835469\n"
     ]
    }
   ],
   "source": [
    "best_score = 0\n",
    "best_est = 0\n",
    "best_depth = 0\n",
    "auc_score = 0\n",
    "\n",
    "for est in range(10,51,10):\n",
    "    \n",
    "    for depth in range(1,11):\n",
    "        \n",
    "        rf_downsampled = RandomForestClassifier(random_state=12345, n_estimators=est, max_depth=depth)\n",
    "        \n",
    "        rf_downsampled.fit(features_downsampled, target_downsampled)\n",
    "        predicted_valid = rf_downsampled.predict(features_valid)\n",
    "        probabilites_valid = rf_downsampled.predict_proba(features_valid)\n",
    "        probabilites_one_valid = probabilites_valid[:, 1]\n",
    "        \n",
    "        score = f1_score(target_valid, predicted_valid)\n",
    "        auc_roc = roc_auc_score(target_valid, probabilites_one_valid)\n",
    "        \n",
    "        if score > best_score:\n",
    "            \n",
    "            best_score = score\n",
    "            best_est = est\n",
    "            best_depth = depth\n",
    "            auc_score = auc_roc\n",
    "\n",
    "print(\n",
    "    \n",
    "    \"Bosque Aleatorio con Submuestreo (n_estimators = {}, max_depth = {}) | F1 = {:.6f}, AUC-ROC = {:.6f}\".format(\n",
    "        best_est, best_depth, best_score, auc_score)\n",
    ")"
   ]
  },
  {
   "cell_type": "markdown",
   "metadata": {},
   "source": [
    "**REGRESIÓN LOGÍSTICA SUBMUESTREO**"
   ]
  },
  {
   "cell_type": "code",
   "execution_count": 45,
   "metadata": {},
   "outputs": [
    {
     "name": "stdout",
     "output_type": "stream",
     "text": [
      "Regresión Logística con Submuestreo | F1 = 0.489691, AUC-ROC = 0.762666\n"
     ]
    }
   ],
   "source": [
    "rl_downsampled = LogisticRegression(random_state=12345, solver='liblinear')\n",
    "\n",
    "rl_downsampled.fit(features_downsampled, target_downsampled)\n",
    "\n",
    "predicted_valid = rl_downsampled.predict(features_valid)\n",
    "\n",
    "probabilites_valid = rl_downsampled.predict_proba(features_valid)\n",
    "probabilites_one_valid = probabilites_valid[:, 1]\n",
    "\n",
    "score = f1_score(target_valid, predicted_valid)\n",
    "auc_score = roc_auc_score(target_valid, probabilites_one_valid)\n",
    "\n",
    "print(\n",
    "    \n",
    "    \"Regresión Logística con Submuestreo | F1 = {:.6f}, AUC-ROC = {:.6f}\".format(\n",
    "        score, auc_score)\n",
    ")"
   ]
  },
  {
   "cell_type": "markdown",
   "metadata": {},
   "source": [
    "Aplicando la técnica de submuestreo para corregir el desbalance de clases, se obtuvieron dos modelos con un puntaje F1 superior al umbral de 0.59: Árbol de Decisión y Bosque Aleatorio. Para el modelo de árbol de decisión con submuestreo se obtuvo un F1 de 0.5943 a una profundidad máxima de cinco, mientras que para el modelo de bosque aleatorio con submuestreo se obtuvo un puntuaje F1 igual a 0.6092 con 10 estimadores y 4 de profundidad máxima. El AUC-ROC más alto fue para el modelo de bosque aleatorio. En el caso del modelo de regresión logística no alcanzó el umbral mínimo de 0.59, registrando un F1 de 0.4869."
   ]
  },
  {
   "cell_type": "markdown",
   "metadata": {},
   "source": [
    "### Ajuste de peso de clase\n",
    "\n",
    "La última técnica para el desbalance de clases será el ajuste de peso de clase. Para esto utilizaremos el parámetro `class_weight` de los algoritmos de aprendizaje. Generalmente, este parámetro se encuentra en None lo que hace que ambas clases tengan el mismo peso, si cambiamos este parámetro a `balanced`, la clase negativa tendrá un mayor peso que la positiva. Para esto simplemente entrenaremos nuestros modelos añadiendo este hiperparámetro a los tres algoritmos de aprendizaje con los que hemos estado trabajando hasta el momento. \n",
    "\n",
    "**ÁRBOL DE DECISIÓN CON AJUSTE DE CLASE**"
   ]
  },
  {
   "cell_type": "code",
   "execution_count": 46,
   "metadata": {},
   "outputs": [
    {
     "name": "stdout",
     "output_type": "stream",
     "text": [
      "Árbol de Decisión con Ajuste de Clase (max_depth = 5)| F1_Score = 0.5963791, AUC_ROC = 0.8310244\n"
     ]
    }
   ],
   "source": [
    "best_score = 0\n",
    "best_depth = 0\n",
    "auc_score = 0\n",
    "\n",
    "for depth in range(1, 11):\n",
    "    dt_balanced = DecisionTreeClassifier(random_state=12345, max_depth=depth, class_weight='balanced')\n",
    "    dt_balanced.fit(features_train, target_train)\n",
    "    \n",
    "    predicted_valid = dt_balanced.predict(features_valid)\n",
    "    probabilites_valid = dt_balanced.predict_proba(features_valid)\n",
    "    probabilites_one_valid = probabilites_valid[:, 1]\n",
    "    \n",
    "    score = f1_score(target_valid, predicted_valid) \n",
    "    auc_roc = roc_auc_score(target_valid, probabilites_one_valid)\n",
    "        \n",
    "    if score > best_score:\n",
    "            \n",
    "        best_score = score\n",
    "        best_depth = depth\n",
    "        auc_score = auc_roc\n",
    "    \n",
    "print(\n",
    "        'Árbol de Decisión con Ajuste de Clase (max_depth = {})| F1_Score = {:.7f}, AUC_ROC = {:.7f}'.format(\n",
    "                best_depth, best_score, auc_score\n",
    "            )\n",
    "        )"
   ]
  },
  {
   "cell_type": "markdown",
   "metadata": {},
   "source": [
    "**BOSQUE ALEATORIO CON AJUSTE DE CLASE**"
   ]
  },
  {
   "cell_type": "code",
   "execution_count": 47,
   "metadata": {},
   "outputs": [
    {
     "name": "stdout",
     "output_type": "stream",
     "text": [
      "Bosque Aleatorio con Ajuste de Clase (n_estimators = 40, max_depth = 10) | F1 = 0.627262, AUC-ROC = 0.846928\n"
     ]
    }
   ],
   "source": [
    "best_score = 0\n",
    "best_est = 0\n",
    "best_depth = 0\n",
    "auc_score = 0\n",
    "\n",
    "for est in range(10,51,10):\n",
    "    \n",
    "    for depth in range(1,11):\n",
    "        \n",
    "        rf_balanced= RandomForestClassifier(random_state=12345, \n",
    "                                             n_estimators=est, \n",
    "                                             max_depth=depth, \n",
    "                                             class_weight='balanced')\n",
    "        \n",
    "        rf_balanced.fit(features_train, target_train)\n",
    "        predicted_valid = rf_balanced.predict(features_valid)\n",
    "        probabilites_valid = rf_balanced.predict_proba(features_valid)\n",
    "        probabilites_one_valid = probabilites_valid[:, 1]\n",
    "        \n",
    "        score = f1_score(target_valid, predicted_valid)\n",
    "        auc_roc = roc_auc_score(target_valid, probabilites_one_valid)\n",
    "        \n",
    "        if score > best_score:\n",
    "            \n",
    "            best_score = score\n",
    "            best_est = est\n",
    "            best_depth = depth\n",
    "            auc_score = auc_roc\n",
    "            \n",
    "print(\n",
    "    \n",
    "    \"Bosque Aleatorio con Ajuste de Clase (n_estimators = {}, max_depth = {}) | F1 = {:.6f}, AUC-ROC = {:.6f}\".format(\n",
    "        best_est, best_depth, best_score, auc_score)\n",
    ")"
   ]
  },
  {
   "cell_type": "code",
   "execution_count": 48,
   "metadata": {},
   "outputs": [
    {
     "name": "stdout",
     "output_type": "stream",
     "text": [
      "Regresión Logística con Ajuste de Clase | F1 = 0.490598, AUC-ROC = 0.763917\n"
     ]
    }
   ],
   "source": [
    "rl_balanced = LogisticRegression(random_state=12345, solver='liblinear',  class_weight='balanced')\n",
    "\n",
    "rl_balanced.fit(features_train, target_train)\n",
    "\n",
    "predicted_valid = rl_balanced.predict(features_valid)\n",
    "\n",
    "probabilites_valid = rl_balanced.predict_proba(features_valid)\n",
    "probabilites_one_valid = probabilites_valid[:, 1]\n",
    "\n",
    "score = f1_score(target_valid, predicted_valid)\n",
    "auc_score = roc_auc_score(target_valid, probabilites_one_valid)\n",
    "\n",
    "print(\n",
    "    \n",
    "    \"Regresión Logística con Ajuste de Clase | F1 = {:.6f}, AUC-ROC = {:.6f}\".format(\n",
    "        score, auc_score)\n",
    ")"
   ]
  },
  {
   "cell_type": "markdown",
   "metadata": {},
   "source": [
    "El mejor modelo para el ajuste de peso de clase es el Bosque Aleatorio con un F1 de 0.6272 y un AUC-ROC de 0.8469, con 40 estimadores y 10 de profundidad máxima. A continuación, se encuentra el modelo de Árbol de Decisión con un puntaje F1 de 0.5963 y AUC-ROC de 0.8310. Los dos modelos se encuentran por encima del umbral de 0.59, el modelo de árbol de decisión se ejecuta más rápido y genera un F1 alto a tan solo cinco de profundidad máxima, mientras que el modelo de bosque aleatorio tarda más tiempo en su ejecución. El modelo de regresión logística, como en los análisis anteriores, presentó el valor más bajo de F1. \n",
    "\n",
    "### Conclusiones\n",
    "\n",
    "Probamos nueve modelos diferentes en nuestro conjunto de validación, utilizando técnicas de submuestreo, sobremuestreo y ajuste de peso de clase para corregir el desbalance de clase. Los seis modelos que presentaron un F1 superior al umbral de 0.59 fueron:\n",
    "\n",
    "- Árbol de Decisión con Sobremuestreo (max_depth = 5)                      | F1 = 0.596379, AUC_ROC = 0.831024\n",
    "- Árbol de Decisión con Submuestreo (max_depth = 5)                        | F1 = 0.594320,  AUC_ROC = 0.824102\n",
    "- Árbol de Decisión con Ajuste de Clase (max_depth = 5)                    | F1 = 0.596379, AUC_ROC = 0.831024\n",
    "- Bosque Aleatorio con Sobremuestreo (n_estimators = 40, max_depth = 9)    | F1 = 0.624464, AUC-ROC = 0.854218\n",
    "- Bosque Aleatorio con Submuestreo (n_estimators = 10, max_depth = 4)      | F1 = 0.609218, AUC-ROC = 0.835469\n",
    "- Bosque Aleatorio con Ajuste de Clase (n_estimators = 40, max_depth = 10) | F1 = 0.627262, AUC-ROC = 0.846928\n",
    "\n",
    "\n",
    "Si consideramos que al aplicar nuestro modelo al conjunto de prueba, las métricas suelen disminuir, vamos a realizar la prueba final en nuestro conjunto de prueba con los tres modelos que generaron un puntaje F1 superior a 0.60: Bosque Aleatorio con Sobremuestreo, Bosque Aleatorio con Submuestreo y Bosque Aleatorio con Ajuste de Clase. Hay que recalcar que tanto el Sobremuestreo como el Ajuste de Clase generaron un puntaje F1 similar, por lo que las dos técnicas de ajuste se comportaron de manera similar en este proyecto. \n",
    "\n",
    "## Prueba Final: Calidad del modelo\n",
    "\n",
    "Procedemos a realizar la prueba final de calidad de los tres modelos que presentaron los valores más altos de F1, para esto aplicaremos las mejores métricas en nuestro conjunto de prueba `features_test` y `target_test`. En el caso del modelo de Bosque Aleatorio con Ajuste de clase, entrenaremos el modelo con nuestro conjunto de entrenamiento y utilizaremos el hiperpárametro class_weight=balanced. Para el modelo de Bosque Aleatorio con sobremuestreo entrenaremos el modelo con la muestra de sobremuestreo `features_upsampled` y `target_upsampled`; a su vez, el modelo de Bosque Aleatorio con submuestreo será entrenado con las muestras `features_downsampled` y `target_downsampled`."
   ]
  },
  {
   "cell_type": "code",
   "execution_count": 49,
   "metadata": {},
   "outputs": [
    {
     "name": "stdout",
     "output_type": "stream",
     "text": [
      "Prueba Final Bosque Aleatorio con Ajuste de Clase| F1 = 0.609844, AUC-ROC = 0.851079\n"
     ]
    }
   ],
   "source": [
    "rf_balanced_best= RandomForestClassifier(random_state=12345, \n",
    "                                             n_estimators=40, \n",
    "                                             max_depth=10, \n",
    "                                             class_weight='balanced')       \n",
    "rf_balanced_best.fit(features_train, target_train)\n",
    "\n",
    "predicted_test = rf_balanced_best.predict(features_test)\n",
    "\n",
    "probabilites_test = rf_balanced_best.predict_proba(features_test)\n",
    "probabilites_one_test = probabilites_test[:, 1]\n",
    "        \n",
    "final_score_balanced = f1_score(target_test, predicted_test)\n",
    "final_auc_balanced = roc_auc_score(target_test, probabilites_one_test)\n",
    "\n",
    "print(\n",
    "    \n",
    "    \"Prueba Final Bosque Aleatorio con Ajuste de Clase| F1 = {:.6f}, AUC-ROC = {:.6f}\".format(\n",
    "        final_score_balanced, final_auc_balanced)\n",
    ")"
   ]
  },
  {
   "cell_type": "code",
   "execution_count": 50,
   "metadata": {},
   "outputs": [
    {
     "name": "stdout",
     "output_type": "stream",
     "text": [
      "Prueba Final Bosque Aleatorio Sobremuestreo| F1 = 0.606250, AUC-ROC = 0.852275\n"
     ]
    }
   ],
   "source": [
    "rf_upsampled_best= RandomForestClassifier(random_state=12345, n_estimators=40, max_depth=9)\n",
    "        \n",
    "rf_upsampled_best.fit(features_upsampled, target_upsampled)\n",
    "\n",
    "predicted_test = rf_upsampled_best.predict(features_test)\n",
    "\n",
    "probabilites_test = rf_upsampled_best.predict_proba(features_test)\n",
    "probabilites_one_test = probabilites_test[:, 1]\n",
    "        \n",
    "final_score_upsampled = f1_score(target_test, predicted_test)\n",
    "final_auc_upsampled = roc_auc_score(target_test, probabilites_one_test)\n",
    "\n",
    "print(\n",
    "    \n",
    "    \"Prueba Final Bosque Aleatorio Sobremuestreo| F1 = {:.6f}, AUC-ROC = {:.6f}\".format(\n",
    "        final_score_upsampled, final_auc_upsampled)\n",
    ")"
   ]
  },
  {
   "cell_type": "code",
   "execution_count": 51,
   "metadata": {},
   "outputs": [
    {
     "name": "stdout",
     "output_type": "stream",
     "text": [
      "Prueba Final Bosque Aleatorio Submuestreo| F1 = 0.581818, AUC-ROC = 0.833994\n"
     ]
    }
   ],
   "source": [
    "rf_downsampled_best= RandomForestClassifier(random_state=12345, n_estimators=10, max_depth=4)\n",
    "        \n",
    "rf_downsampled_best.fit(features_downsampled, target_downsampled)\n",
    "\n",
    "predicted_test = rf_downsampled_best.predict(features_test)\n",
    "\n",
    "probabilites_test = rf_downsampled_best.predict_proba(features_test)\n",
    "probabilites_one_test = probabilites_test[:, 1]\n",
    "        \n",
    "final_score_upsampled = f1_score(target_test, predicted_test)\n",
    "final_auc_upsampled = roc_auc_score(target_test, probabilites_one_test)\n",
    "\n",
    "print(\n",
    "    \n",
    "    \"Prueba Final Bosque Aleatorio Submuestreo| F1 = {:.6f}, AUC-ROC = {:.6f}\".format(\n",
    "        final_score_upsampled, final_auc_upsampled)\n",
    ")"
   ]
  },
  {
   "cell_type": "markdown",
   "metadata": {},
   "source": [
    "Para el modelo de Bosque Aleatorio con Ajuste de Clase se obtuvo el puntaje F1 de 0.6098 y para el modelo de Bosque Aleatorio con Sobremuestreo se obtuvo un F1 de 0.6062. Los dos modelos se encuentran por encima del umbral de 0.59, y el valor de AUC-ROC se encuentra alrededor de 0.85 para ambos modelos. En el caso del modelo de Bosque Aleatorio con submuestreo, al aplicarlo a nuestro conjunto de prueba el puntaje F1 disminuyó a 0.5818, este valor se encuentra por debajo del umbral establecido, así que descartamos este modelo. \n",
    "\n",
    "En este caso, dado que la métrica F1 es similar entre los dos primeros modelos, vamos a quedarnos con el modelo de Bosque Aleatorio con Ajuste de Clase como nuestro modelo predictivo ya que presenta un F1 ligeramente superior al modelo con sobremuestreo. "
   ]
  },
  {
   "cell_type": "markdown",
   "metadata": {},
   "source": [
    "## Prueba de Cordura\n",
    "\n",
    "Una vez establecido nuestro modelo predictivo de Bosque Aleatorio con Ajuste de Clase como el más propicio para predecir la tendencia a la deserción de los clientes de Beta Bank, vamos a realizar un último análisis conocido como Prueba de Cordura que buscará problemas en las clasificicación del modelo comparando las predicciones en el conjunto de prueba con la aleatoriedad. Para esto vamos a generar una serie que será rellenada con valores aleatorios de 0 ó 1 y la guardaremos en la variable `predictions_random`. Para construir nuestro objeto Series vamos a utilizar la función pd.Series de Pandas y pasaremos como tamaño del objetivo valores aleatorios de 0 ó 1 a través de la función random.choice de numpy, estableceremos el tamaño de nuestro array de valores igual al tamaño de `target_test`. A su vez, estableceremos como índice del objeto Series los índices registrados en `target_test`."
   ]
  },
  {
   "cell_type": "code",
   "execution_count": 52,
   "metadata": {},
   "outputs": [
    {
     "data": {
      "text/plain": [
       "1    1007\n",
       "0     993\n",
       "dtype: int64"
      ]
     },
     "execution_count": 52,
     "metadata": {},
     "output_type": "execute_result"
    }
   ],
   "source": [
    "#Establecemos el valor que se establecerá como semilla para el generador de números pseudoaleatorios\n",
    "np.random.seed(54321)\n",
    "\n",
    "#Construimos nuestro objeto Series de valores aleatorios 0 ó 1\n",
    "predictions_random =  pd.Series(np.random.choice([0, 1], size=len(target_test)), index=target_test.index)\n",
    "\n",
    "#Comprobamos los valores únicos del objeto Series llamando a value_counts\n",
    "predictions_random.value_counts(dropna=False)"
   ]
  },
  {
   "cell_type": "code",
   "execution_count": 53,
   "metadata": {},
   "outputs": [
    {
     "name": "stdout",
     "output_type": "stream",
     "text": [
      "F1 aleatoriedad: 0.2867132867132867\n",
      "F1 mejor modelo predictivo: 0.6098439375750301\n"
     ]
    }
   ],
   "source": [
    "print('F1 aleatoriedad:', f1_score(target_test, predictions_random))\n",
    "print('F1 mejor modelo predictivo:', final_score_balanced)"
   ]
  },
  {
   "cell_type": "markdown",
   "metadata": {},
   "source": [
    "Nuestro modelo presenta un F1 superior al modelo aleatoriamente rellenado con 0 y 1, ahora vamos a realizar un última prueba construyendo un curva ROC, que también nos permitirá comprobar el rendimiento del modelo de clasificación.\n",
    "\n",
    "Una curva ROC nos permite establecer que tan bueno es un modelo al distinguir entre dos clases, un buen modelo podrá distinguir entre los dos, mientras que un modelo pobre no podrá realizar una correcta predicción de clases. Esta curva se construye en base a la tasa de verdaderos positivos y la tasa de falsos positivos en diferentes umbrales del modelo. A su vez, se compara nuestra curva con un modelo que responde aleatoriamente, el cual será representado como un línea diagonal que va desde la esquina inferior izquierda hasta la esquina superior derecha. Mientras más alta sea la curva, mejor será la calidad del modelo.\n",
    "\n",
    "Para construir esta curva vamos a utilizar la función `roc_curve` de Scikit-Learn que nos permitirá obtener la tasa de verdaderos positivos, tasa de falsos positivos y los umbrales al pasar como argumentos `target_test` y `probabilities_one_test`. \n",
    "\n"
   ]
  },
  {
   "cell_type": "code",
   "execution_count": 54,
   "metadata": {},
   "outputs": [
    {
     "data": {
      "image/png": "[encoded data removed]",
      "text/plain": [
       "<Figure size 504x504 with 1 Axes>"
      ]
     },
     "metadata": {
      "needs_background": "light"
     },
     "output_type": "display_data"
    },
    {
     "name": "stdout",
     "output_type": "stream",
     "text": [
      "Área Bajo la Curva ROC para el modelo final 0.8510788206952482\n"
     ]
    }
   ],
   "source": [
    "# Obtenermos las predicciones de probabilidades para el conjunto de prueba\n",
    "probabilities_test = rf_balanced_best.predict_proba(features_test)\n",
    "probabilities_one_test = probabilities_test[:, 1]\n",
    "\n",
    "# Llamamos a la función roc_curve\n",
    "fpr, tpr, thresholds = roc_curve(target_test, probabilities_one_test)\n",
    "\n",
    "# Trazamos el gráfico\n",
    "plt.figure(figsize=(7,7))\n",
    "\n",
    "# Curva ROC de nuestr modelo predictivo\n",
    "plt.plot(fpr, tpr, label= 'Modelo de Alta Calidad')\n",
    "\n",
    "# Curva ROC para modelo aleatorio (parece una línea recta)\n",
    "plt.plot([0, 1], [0, 1], linestyle='--', label='Modelo Aleatorio')\n",
    "plt.legend(loc = 'lower right')\n",
    "\n",
    "# Establecemos el límite para los ejes de 0 a 1 \n",
    "plt.xlim([0.0, 1.0])\n",
    "plt.ylim([0.0, 1.0])\n",
    "\n",
    "# Nombramos los ejes y agregamos un encabezado\n",
    "plt.xlabel('Tasa de falsos positivos')\n",
    "plt.ylabel('Tasa de verdaderos positivos')\n",
    "plt.title('Curva ROC')\n",
    "plt.show()\n",
    "\n",
    "print('Área Bajo la Curva ROC para el modelo final', final_auc_balanced)"
   ]
  },
  {
   "cell_type": "markdown",
   "metadata": {},
   "source": [
    "La curva ROC para nuestro modelo final se encuentra por encima de la línea que representa un modelo aleatorio, además la curva es alta, por lo que el modelo es bueno en distinguir entre las dos categorías. A su vez, el valor de AUC-ROC obtenido fue de 0.8510, superior al valor 0.5 que se asigna a modelos aleatorios, pudiendo determinar que nuestro modelo predictivo es mejor que la aleatoriedad, pasando nuevamente la prueba de cordura final. \n",
    "\n",
    "## Conclusiones\n",
    "\n",
    "\n",
    "**Preprocesamiento de datos**\n",
    "\n",
    "1. Previo a la construcción del modelo se eliminaron tres variables que no ayudarían a crear un modelo predictivo, ya que contenían información referente al ID del usuario o su apellido. A su vez, se corrigió el nombre de las columnas, transformándolas a minúsculas, todo acorde con las normas de buen estilo en programación.\n",
    "2. Se registraron valores ausentes en la variable `tenure` los cuales fueron reemplazados a través de las predicciones realizadas por un modelo de regresión lineal. No se utilizó la media, mediana o cero, ya que esto afectaría la distribución de nuestro datos, influyendo en el modelo.\n",
    "\n",
    "**Construcción de modelo predictivo**\n",
    "\n",
    "1. Se estableció como objetivo del modelo la variable `existed` y las once variables restantes se utilizaron como características del modelo. Las características categóricas fueron codificadas a través de One-Hot Encoding, mientras que las características numéricas fueron estandarizadas a través de la técnica de escalado.\n",
    "2. Se dividió el dataset en tres conjuntos: entrenamiento, validación y prueba, en una propoción 3:1:1, y se establecieron las características y objetivos de cada grupo de datos. \n",
    "3. Nuestro objetivo fue de tipo clasificatorio, por lo que se comprobó si existía un desequilibrio entra las clases 1 y 0. Al confirmarse esto, se decidió entrenar modelos con y sin desequilibrio de clases. Para esto se utilizaron tres algoritmos de aprendizaje: Árbol de Decisión, Bosque Aleatorio y Regresión Logística. \n",
    "4. Ninguno de los modelos entrenados sin desbalance de clases alcanzó el umbral mínimo de 0.59, ya que estos modelos no son capaces de detectar valores verdaderos negativos, que son los que presentaron una mayor proporción. \n",
    "5. Los modelos que consideraron el desbalance de clases fueron entrenados con submuestreo, sobremuestreo y ajuste de peso de clase. Se registraron puntajes F1 superiores a 0.59 para los modelos de Bosque Aleatorio y Árbol de Decisión con submuestreo, sobremuestreo y ajuste de clase. Se decidió analizar la calidad del modelo en nuestro conjunto de prueba con el modelo de Bosque Aleatorio tanto en submuestreo, sobremuestreo y ajuste de peso de clase.  \n",
    "\n",
    "**Modelo Predictivo Final**\n",
    "\n",
    "Se concluye que el mejor modelo para predecir correctamente la deserción de clientes de Beta Bank es el modelo de Bosque Aleatorio (n_estimators = 40, max_depth = 10) con ajuste de peso de clase. Este modelo alcanzó un puntaje F1 de 0.6098, que se encuentra por encima del umbral mínimo de 0.59. Así mismo, el modelo alcanzó un AUC-ROC de 0.8510, lo que indica que hay un 85% de probabilidad de que distinga correctamente entre aquellos clientes que abandonarán o no la entidad bancaria. Además, este valor se encuentra por encima del valor AUC-ROC de 0.5 para un modelo aleatorio, por lo que nuestro modelo rinde mejor que la aleatoriedad. "
   ]
  }
 ],
 "metadata": {
  "kernelspec": {
   "display_name": "Python 3 (ipykernel)",
   "language": "python",
   "name": "python3"
  },
  "language_info": {
   "codemirror_mode": {
    "name": "ipython",
    "version": 3
   },
   "file_extension": ".py",
   "mimetype": "text/x-python",
   "name": "python",
   "nbconvert_exporter": "python",
   "pygments_lexer": "ipython3",
   "version": "3.9.12"
  },
  "toc": {
   "base_numbering": 1,
   "nav_menu": {},
   "number_sections": true,
   "sideBar": true,
   "skip_h1_title": true,
   "title_cell": "Tabla de Contenidos",
   "title_sidebar": "Contents",
   "toc_cell": true,
   "toc_position": {
    "height": "calc(100% - 180px)",
    "left": "10px",
    "top": "150px",
    "width": "298.075px"
   },
   "toc_section_display": true,
   "toc_window_display": true
  }
 },
 "nbformat": 4,
 "nbformat_minor": 2
}
